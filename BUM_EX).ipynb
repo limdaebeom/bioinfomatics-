{
  "cells": [
    {
      "cell_type": "markdown",
      "metadata": {
        "id": "view-in-github",
        "colab_type": "text"
      },
      "source": [
        "<a href=\"https://colab.research.google.com/github/limdaebeom/bioinfomatics-/blob/main/BUM_EX).ipynb\" target=\"_parent\"><img src=\"https://colab.research.google.com/assets/colab-badge.svg\" alt=\"Open In Colab\"/></a>"
      ]
    },
    {
      "cell_type": "code",
      "execution_count": null,
      "metadata": {
        "colab": {
          "base_uri": "https://localhost:8080/",
          "height": 35
        },
        "id": "KSHOwYGGvRX2",
        "outputId": "387c2879-9cf1-4041-f12d-c0102daa35a6"
      },
      "outputs": [
        {
          "data": {
            "application/vnd.google.colaboratory.intrinsic+json": {
              "type": "string"
            },
            "text/plain": [
              "'I EAT 3 apple'"
            ]
          },
          "execution_count": 10,
          "metadata": {},
          "output_type": "execute_result"
        }
      ],
      "source": [
        "\"I EAT {0} apple\".format(3)\n"
      ]
    },
    {
      "cell_type": "code",
      "execution_count": null,
      "metadata": {
        "id": "RbI2IAX67NUF"
      },
      "outputs": [],
      "source": []
    },
    {
      "cell_type": "code",
      "execution_count": null,
      "metadata": {
        "colab": {
          "base_uri": "https://localhost:8080/"
        },
        "id": "foesRy7FC6iw",
        "outputId": "e8a68d27-1bfd-4cd4-8092-ec20650b8040"
      },
      "outputs": [
        {
          "name": "stdout",
          "output_type": "stream",
          "text": [
            "파일을 입력하세요: test.py\n",
            "파일명: test\n",
            "확장자: py\n"
          ]
        }
      ],
      "source": [
        "file_name = input(\"파일을 입력하세요: \")\n",
        "name, extension = file_name.split('.')\n",
        "print(\"파일명:\", name)\n",
        "print(\"확장자:\", extension)\n"
      ]
    },
    {
      "cell_type": "code",
      "execution_count": null,
      "metadata": {
        "id": "qisvWuuvFJkK"
      },
      "outputs": [],
      "source": [
        "import datetime"
      ]
    },
    {
      "cell_type": "code",
      "execution_count": null,
      "metadata": {
        "colab": {
          "base_uri": "https://localhost:8080/"
        },
        "id": "iA7lfJBXFMa8",
        "outputId": "71bbf0bf-4638-4034-907b-a00ef370722e"
      },
      "outputs": [
        {
          "name": "stdout",
          "output_type": "stream",
          "text": [
            "값 : 2023-08-08 03:01:30.254106\n",
            "자료형 : <class 'str'>\n"
          ]
        }
      ],
      "source": [
        "import datetime\n",
        "now = str(datetime.datetime.now())\n",
        "print(f'값 : {now}')\n",
        "print(f'자료형 : {type(now)}')"
      ]
    },
    {
      "cell_type": "code",
      "execution_count": null,
      "metadata": {
        "colab": {
          "base_uri": "https://localhost:8080/"
        },
        "id": "f4J-IxeXGjpJ",
        "outputId": "d60ea6a1-be3b-4e8a-bf50-c0431c888c54"
      },
      "outputs": [
        {
          "name": "stdout",
          "output_type": "stream",
          "text": [
            "값 : 2023-08-08 03:05:57.098111\n",
            "자료형 : <class 'str'>\n"
          ]
        }
      ],
      "source": [
        "import datetime\n",
        "now = str(datetime.datetime.now())\n",
        "print(f'값 : {now}')\n",
        "print(f'자료형 : {type(now)}')\n"
      ]
    },
    {
      "cell_type": "code",
      "execution_count": null,
      "metadata": {
        "colab": {
          "base_uri": "https://localhost:8080/"
        },
        "id": "dstWioDwG7lD",
        "outputId": "8d8bfb79-da97-4a67-e267-7223b0d7391f"
      },
      "outputs": [
        {
          "name": "stdout",
          "output_type": "stream",
          "text": [
            "값 : 2023-08-08 03:07:35.147043\n",
            "자료형 : <class 'str'>\n",
            " \"지금시각은 + \"True\"\n"
          ]
        }
      ],
      "source": [
        "import datetime\n",
        "now = str(datetime.datetime.now())\n",
        "print(f'값 : {now}')\n",
        "print(f'자료형 : {type(now)}')\n",
        "\n",
        "print(f' \"지금시각은 + \"{0<3}\"')"
      ]
    },
    {
      "cell_type": "code",
      "execution_count": null,
      "metadata": {
        "colab": {
          "base_uri": "https://localhost:8080/"
        },
        "id": "WNWVc8SFHThO",
        "outputId": "35dbc35e-597f-4214-b130-9eb014f6da28"
      },
      "outputs": [
        {
          "name": "stdout",
          "output_type": "stream",
          "text": [
            "값 : 2023-08-08 03:08:18.636225\n",
            "자료형 : <class 'str'>\n",
            " \"지금시각은 + \"True.format(now)\"\n"
          ]
        }
      ],
      "source": [
        "import datetime\n",
        "now = str(datetime.datetime.now())\n",
        "print(f'값 : {now}')\n",
        "print(f'자료형 : {type(now)}')\n",
        "\n",
        "print(f' \"지금시각은 + \"{0<3}.format(now)\"')"
      ]
    },
    {
      "cell_type": "code",
      "execution_count": null,
      "metadata": {
        "colab": {
          "base_uri": "https://localhost:8080/"
        },
        "id": "4-_E3ZsIHeI0",
        "outputId": "3098a21e-1d4b-43d3-b85e-c800325ae356"
      },
      "outputs": [
        {
          "name": "stdout",
          "output_type": "stream",
          "text": [
            "값 : 2023-08-08 03:08:56.937426\n",
            "자료형 : <class 'str'>\n",
            " \"지금시각은 + \"0  \"\n"
          ]
        }
      ],
      "source": [
        "import datetime\n",
        "now = str(datetime.datetime.now())\n",
        "print(f'값 : {now}')\n",
        "print(f'자료형 : {type(now)}')\n",
        "\n",
        "print(f' \"지금시각은 + \"{0:<3}\"')"
      ]
    },
    {
      "cell_type": "code",
      "execution_count": null,
      "metadata": {
        "colab": {
          "base_uri": "https://localhost:8080/"
        },
        "id": "4-MlW4n7HnfL",
        "outputId": "51ad1c51-2f50-4efc-cc7c-4ef02e97c9fb"
      },
      "outputs": [
        {
          "name": "stdout",
          "output_type": "stream",
          "text": [
            "값 : 2023-08-08 03:10:08.622032\n",
            "자료형 : <class 'str'>\n",
            " \"지금시각은 + \"nowTrue\"\n"
          ]
        }
      ],
      "source": [
        "import datetime\n",
        "now = str(datetime.datetime.now())\n",
        "print(f'값 : {now}')\n",
        "print(f'자료형 : {type(now)}')\n",
        "\n",
        "print(f' \"지금시각은 + \"now{0<3}\"')"
      ]
    },
    {
      "cell_type": "code",
      "execution_count": null,
      "metadata": {
        "colab": {
          "base_uri": "https://localhost:8080/"
        },
        "id": "gKoGq7eoH4_E",
        "outputId": "23181b7d-bbb3-48c1-9841-cb4c84bbe66a"
      },
      "outputs": [
        {
          "name": "stdout",
          "output_type": "stream",
          "text": [
            "값 : 2023-08-08 03:10:26.500737\n",
            "자료형 : <class 'str'>\n",
            " \"지금시각은 + \"now[0<3]\"\n"
          ]
        }
      ],
      "source": [
        "import datetime\n",
        "now = str(datetime.datetime.now())\n",
        "print(f'값 : {now}')\n",
        "print(f'자료형 : {type(now)}')\n",
        "\n",
        "print(f' \"지금시각은 + \"now[0<3]\"')"
      ]
    },
    {
      "cell_type": "code",
      "execution_count": null,
      "metadata": {
        "colab": {
          "base_uri": "https://localhost:8080/"
        },
        "id": "K_A0UIUdH9S0",
        "outputId": "dcee9cc5-e700-4c4f-9e07-9eeb2578b5c0"
      },
      "outputs": [
        {
          "name": "stdout",
          "output_type": "stream",
          "text": [
            "값 : 2023-08-08 03:10:42.261491\n",
            "자료형 : <class 'str'>\n",
            " \"지금시각은 + now[0<3]\n"
          ]
        }
      ],
      "source": [
        "import datetime\n",
        "now = str(datetime.datetime.now())\n",
        "print(f'값 : {now}')\n",
        "print(f'자료형 : {type(now)}')\n",
        "\n",
        "print(f' \"지금시각은 + now[0<3]')"
      ]
    },
    {
      "cell_type": "code",
      "execution_count": null,
      "metadata": {
        "colab": {
          "base_uri": "https://localhost:8080/"
        },
        "id": "bGMpSTAJIDcB",
        "outputId": "4984f321-b485-4cab-f4c2-79da40f1fac8"
      },
      "outputs": [
        {
          "name": "stdout",
          "output_type": "stream",
          "text": [
            "값 : 2023-08-08 03:11:05.550804\n",
            "자료형 : <class 'str'>\n",
            " \"지금시각은\" + now[0<3]\n"
          ]
        }
      ],
      "source": [
        "import datetime\n",
        "now = str(datetime.datetime.now())\n",
        "print(f'값 : {now}')\n",
        "print(f'자료형 : {type(now)}')\n",
        "\n",
        "print(f' \"지금시각은\" + now[0<3]')"
      ]
    },
    {
      "cell_type": "code",
      "execution_count": null,
      "metadata": {
        "colab": {
          "base_uri": "https://localhost:8080/"
        },
        "id": "9VzJiXD2ILdB",
        "outputId": "d3c5b29c-48c6-43fc-d190-40aca721a487"
      },
      "outputs": [
        {
          "name": "stdout",
          "output_type": "stream",
          "text": [
            "값    : 2023-08-08 03:11:27.442912\n",
            "자료형 : <class 'str'>\n",
            "지금 시각은 2023년 08월 08일 03시 11분 27초 입니다.\n"
          ]
        }
      ],
      "source": [
        "import datetime\n",
        "\n",
        "now = str(datetime.datetime.now())\n",
        "print(f'값    : {now}')\n",
        "print(f'자료형 : {type(now)}')\n",
        "\n",
        "print(f'지금 시각은 {now[:4]}년 {now[5:7]}월 {now[8:10]}일 {now[11:13]}시 {now[14:16]}분 {now[17:19]}초 입니다.')"
      ]
    },
    {
      "cell_type": "code",
      "execution_count": null,
      "metadata": {
        "colab": {
          "base_uri": "https://localhost:8080/"
        },
        "id": "iJkTXEfXImFi",
        "outputId": "c4386747-0458-47d3-a330-731692ddd856"
      },
      "outputs": [
        {
          "name": "stdout",
          "output_type": "stream",
          "text": [
            "현재 시각은 2023년 08월 08일 03시 13분 15초 입니다\n"
          ]
        }
      ],
      "source": [
        "import datetime\n",
        "now = str(datetime.datetime.now())\n",
        "now = now.split()\n",
        "day = now[0].split('-')\n",
        "time = now[1].split(':')\n",
        "sec = time[2].split('.')[0]\n",
        "print(f'현재 시각은 {day[0]}년 {day[1]}월 {day[2]}일 {time[0]}시 {time[1]}분 {sec}초 입니다')"
      ]
    },
    {
      "cell_type": "code",
      "execution_count": null,
      "metadata": {
        "id": "29oiLYLGIms7"
      },
      "outputs": [],
      "source": [
        "import datetime"
      ]
    },
    {
      "cell_type": "code",
      "execution_count": null,
      "metadata": {
        "colab": {
          "base_uri": "https://localhost:8080/"
        },
        "id": "ooRPQBznJdBP",
        "outputId": "e1c743fa-cc34-41f4-fb2b-1f902148cc4e"
      },
      "outputs": [
        {
          "name": "stdout",
          "output_type": "stream",
          "text": [
            "지금 시간은 2023년 08월 08일 03시 19d 입니다.\n"
          ]
        }
      ],
      "source": [
        "import datetime\n",
        "\n",
        "now = datetime.datetime.now()\n",
        "print(now.strftime('지금 시간은 %Y년 %m월 %d일 %H시 %Md 입니다.'))"
      ]
    },
    {
      "cell_type": "code",
      "execution_count": null,
      "metadata": {
        "colab": {
          "base_uri": "https://localhost:8080/"
        },
        "id": "piBaFGo_KDD3",
        "outputId": "6b1ea0f1-e244-44f1-ebbb-974c616be405"
      },
      "outputs": [
        {
          "name": "stdout",
          "output_type": "stream",
          "text": [
            "[환율정보 불러오기]\n",
            "-환율기준시간: 2023.08.08 12:51\n",
            "-달러: 1,314.00\n"
          ]
        }
      ],
      "source": [
        "import urllib.request\n",
        "import ssl\n",
        "\n",
        "ctx = ssl._create_unverified_context()\n",
        "\n",
        "#환율정보 페이지 불러오기\n",
        "print(\"[환율정보 불러오기]\")\n",
        "URL = \"https://search.naver.com/search.naver?where=nexearch&sm=top_hty&fbm=1&ie=utf8&query=%ED%99%98%EC%9C%A8\"\n",
        "page = urllib.request.urlopen(URL, context=ctx)\n",
        "text = page.read().decode(\"utf8\")  # 해당 페이지의 소스코드\n",
        "# print(text)\n",
        "\n",
        "#환율정보 가져오기: 기준시간\n",
        "searchText = 'class=\"grp_info\"> <em>'\n",
        "where      = text.find(searchText)  #소스코드에서 해당 문자열의 시작위치\n",
        "targetInfo = text[where+len(searchText):where+len(searchText)+16]\n",
        "print(f'-환율기준시간: {targetInfo}')\n",
        "\n",
        "#환율정보 가져오기: 달러\n",
        "searchText = '<span>미국 <em>USD</em></span></a></th> <td><span>'\n",
        "where      = text.find(searchText)\n",
        "targetInfo = text[where+len(searchText):where+len(searchText)+8]\n",
        "print(f'-달러: {targetInfo}')\n",
        "\n",
        "#-----------------------------------------------------------------"
      ]
    },
    {
      "cell_type": "code",
      "execution_count": null,
      "metadata": {
        "colab": {
          "base_uri": "https://localhost:8080/"
        },
        "id": "bK9TXiygRvc7",
        "outputId": "3054a06a-d603-4492-99ee-fabf22b9a08b"
      },
      "outputs": [
        {
          "name": "stdout",
          "output_type": "stream",
          "text": [
            "[환율정보 불러오기]\n",
            "-환율기준시간: 2023.08.08 12:51\n",
            "-달러: 1,314.00\n",
            "-유로: 1,443.17\n",
            "-위안: 181.94\n",
            "-파운드: 1,676.01\n",
            "-엔화: 916.86\n"
          ]
        }
      ],
      "source": [
        "import urllib.request\n",
        "import ssl\n",
        "\n",
        "ctx = ssl._create_unverified_context()\n",
        "\n",
        "#환율정보 페이지 불러오기\n",
        "print(\"[환율정보 불러오기]\")\n",
        "URL = \"https://search.naver.com/search.naver?where=nexearch&sm=top_hty&fbm=1&ie=utf8&query=%ED%99%98%EC%9C%A8\"\n",
        "page = urllib.request.urlopen(URL, context=ctx)\n",
        "text = page.read().decode(\"utf8\")  # 해당 페이지의 소스코드\n",
        "# print(text)\n",
        "\n",
        "#환율정보 가져오기: 기준시간\n",
        "searchText = 'class=\"grp_info\"> <em>'\n",
        "where      = text.find(searchText)  #소스코드에서 해당 문자열의 시작위치\n",
        "(f'위치: {where}')\n",
        "(f'searchText 길이: {len(searchText)}')\n",
        "start=where+len(searchText)\n",
        "end=where+len(searchText)+16\n",
        "targetInfo = text[where+len(searchText):where+len(searchText)+16]\n",
        "print(f'-환율기준시간: {targetInfo}')\n",
        "\n",
        "#환율정보 가져오기: 달러\n",
        "searchText = '<span>미국 <em>USD</em></span></a></th> <td><span>'\n",
        "where      = text.find(searchText)\n",
        "targetInfo = text[where+len(searchText):where+len(searchText)+8]\n",
        "print(f'-달러: {targetInfo}')\n",
        "\n",
        "#환율정보 가져오기: 유로\n",
        "searchText = '<span>유럽연합 <em>EUR</em></span></a></th> <td><span>'\n",
        "where      = text.find(searchText)\n",
        "targetInfo = text[where+len(searchText):where+len(searchText)+8]\n",
        "print(f'-유로: {targetInfo}')\n",
        "\n",
        "#환율정보 가져오기: 위안\n",
        "searchText = '<span>중국 <em>CNY</em></span></a></th> <td><span>'\n",
        "where      = text.find(searchText)\n",
        "targetInfo = text[where+len(searchText):where+len(searchText)+6]\n",
        "print(f'-위안: {targetInfo}')\n",
        "\n",
        "#환율정보 가져오기: 파운드\n",
        "searchText = '<span>영국 <em>GBP</em></span></a></th> <td><span>'\n",
        "where      = text.find(searchText)\n",
        "targetInfo = text[where+len(searchText):where+len(searchText)+8]\n",
        "print(f'-파운드: {targetInfo}')\n",
        "\n",
        "#환율정보 가져오기: 엔화\n",
        "searchText = '<span>일본 <em>JPY 100</em></span></a></th> <td><span>'\n",
        "where      = text.find(searchText)\n",
        "targetInfo = text[where+len(searchText):where+len(searchText)+6]\n",
        "print(f'-엔화: {targetInfo}')"
      ]
    },
    {
      "cell_type": "code",
      "execution_count": null,
      "metadata": {
        "colab": {
          "base_uri": "https://localhost:8080/",
          "height": 147
        },
        "id": "qLGy4FTHmUjI",
        "outputId": "1894fd6b-da4c-46dc-d678-1c4cd4e98806"
      },
      "outputs": [
        {
          "ename": "SyntaxError",
          "evalue": "ignored",
          "output_type": "error",
          "traceback": [
            "\u001b[0;36m  File \u001b[0;32m\"<ipython-input-31-15469be56d86>\"\u001b[0;36m, line \u001b[0;32m4\u001b[0m\n\u001b[0;31m    a/5000==>13\u001b[0m\n\u001b[0m            ^\u001b[0m\n\u001b[0;31mSyntaxError\u001b[0m\u001b[0;31m:\u001b[0m invalid syntax\n"
          ]
        }
      ],
      "source": [
        "input = 4321\n",
        "a= 657890\n",
        "\n",
        "a/5000==>13"
      ]
    },
    {
      "cell_type": "code",
      "execution_count": null,
      "metadata": {
        "id": "Sf87QSIamueu"
      },
      "outputs": [],
      "source": [
        "input = 4321\n",
        "a= 657890\n",
        "\n",
        "a/5000==>13"
      ]
    },
    {
      "cell_type": "code",
      "execution_count": null,
      "metadata": {
        "id": "wW4VZFannDSl"
      },
      "outputs": [],
      "source": [
        "money = int(input('동전으로 교환할 금액을 입력하세요'))\n",
        "print('-'*30)\n",
        "print(f'500원짜리 동전: (money//100) 개')\n",
        "print(f'100원짜리 동전 : money//100 개')\n",
        "money = money%500\n",
        "print(f'100원짜리 동전: (money/100\n",
        ")')"
      ]
    },
    {
      "cell_type": "code",
      "execution_count": null,
      "metadata": {
        "colab": {
          "base_uri": "https://localhost:8080/"
        },
        "id": "6bteBUfioPa-",
        "outputId": "aa39a67d-d4e2-448f-9fa6-950310b7e48c"
      },
      "outputs": [
        {
          "name": "stdout",
          "output_type": "stream",
          "text": [
            "동전으로 교환할 금액을 입력하세요 :4320\n",
            "500원짜리 ==> 8개\n",
            "100원짜리 ==> 3개\n",
            "50원짜리 ==> 0개\n",
            "10원짜리 ==> 2개\n",
            "잔돈 ==> c원\n"
          ]
        }
      ],
      "source": [
        "c = int(input('동전으로 교환할 금액을 입력하세요 :'))\n",
        "print(f'500원짜리 ==> {c // 500}개')\n",
        "c = c % 500\n",
        "print(f'100원짜리 ==> {c // 100}개')\n",
        "c = c % 100\n",
        "print(f'50원짜리 ==> {c // 50}개')\n",
        "c = c % 50\n",
        "print(f'10원짜리 ==> {c // 10}개')\n",
        "c = c % 10\n",
        "print(f'잔돈 ==> c원')"
      ]
    },
    {
      "cell_type": "code",
      "execution_count": null,
      "metadata": {
        "id": "oWlvG9xwpgnu"
      },
      "outputs": [],
      "source": [
        "c = int(input('동전으로 교환할 금액을 입력하세요 :'))\n",
        "print(f'500원짜리 ==> {c // 500}개')\n",
        "c = c % 500\n",
        "print(f'100원짜리 ==> {c // 100}개')\n",
        "c = c % 100\n",
        "print(f'50원짜리 ==> {c // 50}개')\n",
        "c = c % 50\n",
        "print(f'10원짜리 ==> {c // 10}개')\n",
        "c = c % 10\n",
        "print(f'잔돈 ==> c원')"
      ]
    },
    {
      "cell_type": "code",
      "execution_count": null,
      "metadata": {
        "colab": {
          "base_uri": "https://localhost:8080/"
        },
        "id": "LJKYY8aARwOG",
        "outputId": "8dfa40c7-282a-41d8-f3ae-ee37ac4823d9"
      },
      "outputs": [
        {
          "name": "stdout",
          "output_type": "stream",
          "text": [
            "100보다 작군요\n"
          ]
        }
      ],
      "source": [
        "a = 99\n",
        "if a < 100 :\n",
        "  print(\"100보다 작군요\")"
      ]
    },
    {
      "cell_type": "code",
      "execution_count": null,
      "metadata": {
        "colab": {
          "base_uri": "https://localhost:8080/"
        },
        "id": "t-Dr1VBPrsGu",
        "outputId": "a515423d-c5bc-4abe-a2db-ca6edad79b40"
      },
      "outputs": [
        {
          "name": "stdout",
          "output_type": "stream",
          "text": [
            "100보다 작군요\n"
          ]
        }
      ],
      "source": [
        "a = 99\n",
        "if a < 100 :  print(\"100보다 작군요\")\n"
      ]
    },
    {
      "cell_type": "code",
      "execution_count": null,
      "metadata": {
        "colab": {
          "base_uri": "https://localhost:8080/",
          "height": 147
        },
        "id": "bEwEftl-r1sZ",
        "outputId": "1907e79a-2dc7-40d1-f193-fe6f51e34ed2"
      },
      "outputs": [
        {
          "ename": "SyntaxError",
          "evalue": "ignored",
          "output_type": "error",
          "traceback": [
            "\u001b[0;36m  File \u001b[0;32m\"<ipython-input-35-9d3be3281433>\"\u001b[0;36m, line \u001b[0;32m3\u001b[0m\n\u001b[0;31m    print(f'(a)'는 1000보다 작군요!')\u001b[0m\n\u001b[0m                     ^\u001b[0m\n\u001b[0;31mSyntaxError\u001b[0m\u001b[0;31m:\u001b[0m invalid decimal literal\n"
          ]
        }
      ],
      "source": [
        "a = 1500\n",
        "if a < 1000:\n",
        "  print(f'(a)'는 1000보다 작군요!')\n",
        "  else\n",
        "        print('무척 덥군요!')\n",
        "\n"
      ]
    },
    {
      "cell_type": "code",
      "execution_count": null,
      "metadata": {
        "colab": {
          "base_uri": "https://localhost:8080/",
          "height": 276
        },
        "id": "B2NxaDdruwYS",
        "outputId": "164ddca0-6aa0-4e28-fd84-67b9c8baa366"
      },
      "outputs": [
        {
          "name": "stdout",
          "output_type": "stream",
          "text": [
            "교환할 돈은 얼마? :\n"
          ]
        },
        {
          "ename": "ValueError",
          "evalue": "ignored",
          "output_type": "error",
          "traceback": [
            "\u001b[0;31m---------------------------------------------------------------------------\u001b[0m",
            "\u001b[0;31mValueError\u001b[0m                                Traceback (most recent call last)",
            "\u001b[0;32m<ipython-input-36-414b4cdb860d>\u001b[0m in \u001b[0;36m<cell line: 3>\u001b[0;34m()\u001b[0m\n\u001b[1;32m      1\u001b[0m \u001b[0mbills\u001b[0m \u001b[0;34m=\u001b[0m \u001b[0;34m[\u001b[0m\u001b[0;36m50000\u001b[0m\u001b[0;34m,\u001b[0m \u001b[0;36m10000\u001b[0m\u001b[0;34m,\u001b[0m \u001b[0;36m5000\u001b[0m\u001b[0;34m,\u001b[0m \u001b[0;36m1000\u001b[0m\u001b[0;34m]\u001b[0m\u001b[0;34m\u001b[0m\u001b[0;34m\u001b[0m\u001b[0m\n\u001b[1;32m      2\u001b[0m \u001b[0mcoins\u001b[0m \u001b[0;34m=\u001b[0m \u001b[0;34m[\u001b[0m\u001b[0;36m500\u001b[0m\u001b[0;34m,\u001b[0m \u001b[0;36m100\u001b[0m\u001b[0;34m,\u001b[0m \u001b[0;36m50\u001b[0m\u001b[0;34m,\u001b[0m \u001b[0;36m10\u001b[0m\u001b[0;34m]\u001b[0m\u001b[0;34m\u001b[0m\u001b[0;34m\u001b[0m\u001b[0m\n\u001b[0;32m----> 3\u001b[0;31m \u001b[0mM\u001b[0m \u001b[0;34m=\u001b[0m \u001b[0mint\u001b[0m\u001b[0;34m(\u001b[0m\u001b[0minput\u001b[0m\u001b[0;34m(\u001b[0m\u001b[0;34m'교환할 돈은 얼마? :'\u001b[0m\u001b[0;34m)\u001b[0m\u001b[0;34m)\u001b[0m\u001b[0;34m\u001b[0m\u001b[0;34m\u001b[0m\u001b[0m\n\u001b[0m\u001b[1;32m      4\u001b[0m \u001b[0mprint\u001b[0m\u001b[0;34m(\u001b[0m\u001b[0;34m'-'\u001b[0m \u001b[0;34m*\u001b[0m \u001b[0;36m30\u001b[0m\u001b[0;34m)\u001b[0m\u001b[0;34m\u001b[0m\u001b[0;34m\u001b[0m\u001b[0m\n\u001b[1;32m      5\u001b[0m \u001b[0mprint\u001b[0m\u001b[0;34m(\u001b[0m\u001b[0;34m'지폐 : '\u001b[0m\u001b[0;34m)\u001b[0m\u001b[0;34m\u001b[0m\u001b[0;34m\u001b[0m\u001b[0m\n",
            "\u001b[0;31mValueError\u001b[0m: invalid literal for int() with base 10: ''"
          ]
        }
      ],
      "source": [
        "bills = [50000, 10000, 5000, 1000]\n",
        "coins = [500, 100, 50, 10]\n",
        "M = int(input('교환할 돈은 얼마? :'))\n",
        "print('-' * 30)\n",
        "print('지폐 : ')\n",
        "for bill in bills:\n",
        "  print(f'{bill}원 {M//bill}장')\n",
        "  M = M % bill\n",
        "print()\n",
        "print('동전 : ')\n",
        "for coin in coins:\n",
        "  print(f'{coin}원 {M//coin}장')\n",
        "  M = M % coin"
      ]
    },
    {
      "cell_type": "code",
      "execution_count": null,
      "metadata": {
        "id": "AIvT6s7RuxHQ"
      },
      "outputs": [],
      "source": []
    },
    {
      "cell_type": "code",
      "execution_count": null,
      "metadata": {
        "colab": {
          "base_uri": "https://localhost:8080/",
          "height": 404
        },
        "id": "YS7Fio7PzKVg",
        "outputId": "cc3417b3-2cb9-4e48-afd5-8a179f00a0b8"
      },
      "outputs": [
        {
          "ename": "ModuleNotFoundError",
          "evalue": "ignored",
          "output_type": "error",
          "traceback": [
            "\u001b[0;31m---------------------------------------------------------------------------\u001b[0m",
            "\u001b[0;31mModuleNotFoundError\u001b[0m                       Traceback (most recent call last)",
            "\u001b[0;32m<ipython-input-37-36f6c4f23241>\u001b[0m in \u001b[0;36m<cell line: 3>\u001b[0;34m()\u001b[0m\n\u001b[1;32m      1\u001b[0m \u001b[0;31m# if ~ elif~ else ~\u001b[0m\u001b[0;34m\u001b[0m\u001b[0;34m\u001b[0m\u001b[0m\n\u001b[1;32m      2\u001b[0m \u001b[0;31m# pip install pywin32    pywin32 라이브러리 인스톨하고 tts 기능 이용한다.\u001b[0m\u001b[0;34m\u001b[0m\u001b[0;34m\u001b[0m\u001b[0m\n\u001b[0;32m----> 3\u001b[0;31m \u001b[0;32mimport\u001b[0m \u001b[0mwin32com\u001b[0m\u001b[0;34m.\u001b[0m\u001b[0mclient\u001b[0m\u001b[0;34m\u001b[0m\u001b[0;34m\u001b[0m\u001b[0m\n\u001b[0m\u001b[1;32m      4\u001b[0m \u001b[0;34m\u001b[0m\u001b[0m\n\u001b[1;32m      5\u001b[0m \u001b[0mtts\u001b[0m \u001b[0;34m=\u001b[0m \u001b[0mwin32com\u001b[0m\u001b[0;34m.\u001b[0m\u001b[0mclient\u001b[0m\u001b[0;34m.\u001b[0m\u001b[0mDispatch\u001b[0m\u001b[0;34m(\u001b[0m\u001b[0;34m\"SAPI.SpVoice\"\u001b[0m\u001b[0;34m)\u001b[0m\u001b[0;34m\u001b[0m\u001b[0;34m\u001b[0m\u001b[0m\n",
            "\u001b[0;31mModuleNotFoundError\u001b[0m: No module named 'win32com'",
            "",
            "\u001b[0;31m---------------------------------------------------------------------------\u001b[0;32m\nNOTE: If your import is failing due to a missing package, you can\nmanually install dependencies using either !pip or !apt.\n\nTo view examples of installing some common dependencies, click the\n\"Open Examples\" button below.\n\u001b[0;31m---------------------------------------------------------------------------\u001b[0m\n"
          ]
        }
      ],
      "source": [
        "\n",
        "\n",
        "\n",
        "# if ~ elif~ else ~\n",
        "# pip install pywin32    pywin32 라이브러리 인스톨하고 tts 기능 이용한다.\n",
        "import win32com.client\n",
        "\n",
        "tts = win32com.client.Dispatch(\"SAPI.SpVoice\")\n",
        "tts.Speak('조건문 만들기 프로그램입니다.')\n",
        "\n",
        "tts.Speak('온도를 입력해주세요:')\n",
        "온도 = float(input('온도를 입력해주세요: '))\n",
        "\n",
        "speak = ''\n",
        "if 온도 > 35:\n",
        "    speak = '무척 덥군요!'\n",
        "elif 온도 > 30:\n",
        "    speak = '덥군요!'\n",
        "elif 온도 > 10:\n",
        "    speak = '쾌적한 온도 입니다!'\n",
        "else:\n",
        "    speak = '추운 온도네요!'\n",
        "\n",
        "print(speak)\n",
        "tts.Speak(speak)\n",
        "\n",
        "\n"
      ]
    },
    {
      "cell_type": "code",
      "execution_count": null,
      "metadata": {
        "colab": {
          "base_uri": "https://localhost:8080/",
          "height": 337
        },
        "id": "1V6_X9N_2VLS",
        "outputId": "acccc973-cd4f-4f93-82dd-f7073e7d0479"
      },
      "outputs": [
        {
          "ename": "KeyboardInterrupt",
          "evalue": "ignored",
          "output_type": "error",
          "traceback": [
            "\u001b[0;31m---------------------------------------------------------------------------\u001b[0m",
            "\u001b[0;31mKeyboardInterrupt\u001b[0m                         Traceback (most recent call last)",
            "\u001b[0;32m<ipython-input-38-927b1a181809>\u001b[0m in \u001b[0;36m<cell line: 1>\u001b[0;34m()\u001b[0m\n\u001b[0;32m----> 1\u001b[0;31m \u001b[0mx\u001b[0m \u001b[0;34m=\u001b[0m \u001b[0mint\u001b[0m\u001b[0;34m(\u001b[0m\u001b[0minput\u001b[0m\u001b[0;34m(\u001b[0m\u001b[0;34m'숫자를 입력해 주세요 :'\u001b[0m\u001b[0;34m)\u001b[0m\u001b[0;34m)\u001b[0m\u001b[0;34m\u001b[0m\u001b[0;34m\u001b[0m\u001b[0m\n\u001b[0m",
            "\u001b[0;32m/usr/local/lib/python3.10/dist-packages/ipykernel/kernelbase.py\u001b[0m in \u001b[0;36mraw_input\u001b[0;34m(self, prompt)\u001b[0m\n\u001b[1;32m    849\u001b[0m                 \u001b[0;34m\"raw_input was called, but this frontend does not support input requests.\"\u001b[0m\u001b[0;34m\u001b[0m\u001b[0;34m\u001b[0m\u001b[0m\n\u001b[1;32m    850\u001b[0m             )\n\u001b[0;32m--> 851\u001b[0;31m         return self._input_request(str(prompt),\n\u001b[0m\u001b[1;32m    852\u001b[0m             \u001b[0mself\u001b[0m\u001b[0;34m.\u001b[0m\u001b[0m_parent_ident\u001b[0m\u001b[0;34m,\u001b[0m\u001b[0;34m\u001b[0m\u001b[0;34m\u001b[0m\u001b[0m\n\u001b[1;32m    853\u001b[0m             \u001b[0mself\u001b[0m\u001b[0;34m.\u001b[0m\u001b[0m_parent_header\u001b[0m\u001b[0;34m,\u001b[0m\u001b[0;34m\u001b[0m\u001b[0;34m\u001b[0m\u001b[0m\n",
            "\u001b[0;32m/usr/local/lib/python3.10/dist-packages/ipykernel/kernelbase.py\u001b[0m in \u001b[0;36m_input_request\u001b[0;34m(self, prompt, ident, parent, password)\u001b[0m\n\u001b[1;32m    893\u001b[0m             \u001b[0;32mexcept\u001b[0m \u001b[0mKeyboardInterrupt\u001b[0m\u001b[0;34m:\u001b[0m\u001b[0;34m\u001b[0m\u001b[0;34m\u001b[0m\u001b[0m\n\u001b[1;32m    894\u001b[0m                 \u001b[0;31m# re-raise KeyboardInterrupt, to truncate traceback\u001b[0m\u001b[0;34m\u001b[0m\u001b[0;34m\u001b[0m\u001b[0m\n\u001b[0;32m--> 895\u001b[0;31m                 \u001b[0;32mraise\u001b[0m \u001b[0mKeyboardInterrupt\u001b[0m\u001b[0;34m(\u001b[0m\u001b[0;34m\"Interrupted by user\"\u001b[0m\u001b[0;34m)\u001b[0m \u001b[0;32mfrom\u001b[0m \u001b[0;32mNone\u001b[0m\u001b[0;34m\u001b[0m\u001b[0;34m\u001b[0m\u001b[0m\n\u001b[0m\u001b[1;32m    896\u001b[0m             \u001b[0;32mexcept\u001b[0m \u001b[0mException\u001b[0m \u001b[0;32mas\u001b[0m \u001b[0me\u001b[0m\u001b[0;34m:\u001b[0m\u001b[0;34m\u001b[0m\u001b[0;34m\u001b[0m\u001b[0m\n\u001b[1;32m    897\u001b[0m                 \u001b[0mself\u001b[0m\u001b[0;34m.\u001b[0m\u001b[0mlog\u001b[0m\u001b[0;34m.\u001b[0m\u001b[0mwarning\u001b[0m\u001b[0;34m(\u001b[0m\u001b[0;34m\"Invalid Message:\"\u001b[0m\u001b[0;34m,\u001b[0m \u001b[0mexc_info\u001b[0m\u001b[0;34m=\u001b[0m\u001b[0;32mTrue\u001b[0m\u001b[0;34m)\u001b[0m\u001b[0;34m\u001b[0m\u001b[0;34m\u001b[0m\u001b[0m\n",
            "\u001b[0;31mKeyboardInterrupt\u001b[0m: Interrupted by user"
          ]
        }
      ],
      "source": [
        "x = int(input('숫자를 입력해 주세요 :'))"
      ]
    },
    {
      "cell_type": "code",
      "execution_count": null,
      "metadata": {
        "id": "-YOKZz1M2pel"
      },
      "outputs": [],
      "source": [
        "x = int(input('숫자를 입력해 주세요 :'))\n",
        "\n",
        "if x%2==0:\n",
        "  print('이 수는 짝수 입니다.')\n"
      ]
    },
    {
      "cell_type": "code",
      "execution_count": null,
      "metadata": {
        "colab": {
          "base_uri": "https://localhost:8080/"
        },
        "id": "zU6OcIJx3J3w",
        "outputId": "32cb21c2-ef1d-40db-c19f-953da2d31639"
      },
      "outputs": [
        {
          "name": "stdout",
          "output_type": "stream",
          "text": [
            "숫자를 입력해 주세요: 47\n",
            "입력된 수 : 47 ==> 홀수\n"
          ]
        }
      ],
      "source": [
        "x = int(input('숫자를 입력해 주세요: '))\n",
        "\n",
        "if x % 2 == 0:\n",
        "  print(f'입력된 수 : {x} ==> 짝수')\n",
        "else:\n",
        "  print(f'입력된 수 : {x} ==> 홀수')"
      ]
    },
    {
      "cell_type": "code",
      "execution_count": null,
      "metadata": {
        "colab": {
          "base_uri": "https://localhost:8080/"
        },
        "id": "vzao8iRQ3nF-",
        "outputId": "d9ff688b-c53f-4227-f7c5-95e30c9a8a31"
      },
      "outputs": [
        {
          "name": "stdout",
          "output_type": "stream",
          "text": [
            "성적을 입력하세요 :95\n",
            "A\n"
          ]
        }
      ],
      "source": [
        "a = int(input('성적을 입력하세요 :'))\n",
        "if a>=90 :\n",
        "  print('A')"
      ]
    },
    {
      "cell_type": "code",
      "execution_count": null,
      "metadata": {
        "colab": {
          "base_uri": "https://localhost:8080/",
          "height": 147
        },
        "id": "ZcLU4DHN48LQ",
        "outputId": "c01e0eec-1f40-41dd-fc12-e38ec95b27ca"
      },
      "outputs": [
        {
          "ename": "SyntaxError",
          "evalue": "ignored",
          "output_type": "error",
          "traceback": [
            "\u001b[0;36m  File \u001b[0;32m\"<ipython-input-41-17443b4e73fd>\"\u001b[0;36m, line \u001b[0;32m3\u001b[0m\n\u001b[0;31m    print('성적:' + score '는' ''A'):\u001b[0m\n\u001b[0m                               ^\u001b[0m\n\u001b[0;31mSyntaxError\u001b[0m\u001b[0;31m:\u001b[0m unterminated string literal (detected at line 3)\n"
          ]
        }
      ],
      "source": [
        "score = int(input('성적을 입력하세요 :'))\n",
        "if score>=90 :\n",
        "  print('성적:' + score '는' ''A'):\n",
        "  if els\n",
        "      print('성적:' + score '는' ''b')"
      ]
    },
    {
      "cell_type": "code",
      "execution_count": null,
      "metadata": {
        "colab": {
          "base_uri": "https://localhost:8080/",
          "height": 410
        },
        "id": "AGgJ7Lrv5tUL",
        "outputId": "aa3b8f11-8970-4042-cb82-9b746be5c7e0"
      },
      "outputs": [
        {
          "ename": "KeyboardInterrupt",
          "evalue": "ignored",
          "output_type": "error",
          "traceback": [
            "\u001b[0;31m---------------------------------------------------------------------------\u001b[0m",
            "\u001b[0;31mKeyboardInterrupt\u001b[0m                         Traceback (most recent call last)",
            "\u001b[0;32m<ipython-input-42-22f9742f6e44>\u001b[0m in \u001b[0;36m<cell line: 1>\u001b[0;34m()\u001b[0m\n\u001b[0;32m----> 1\u001b[0;31m \u001b[0mscore\u001b[0m \u001b[0;34m=\u001b[0m \u001b[0mfloat\u001b[0m\u001b[0;34m(\u001b[0m\u001b[0minput\u001b[0m\u001b[0;34m(\u001b[0m\u001b[0;34m'성적을 입력해 주세요: '\u001b[0m\u001b[0;34m)\u001b[0m\u001b[0;34m)\u001b[0m\u001b[0;34m\u001b[0m\u001b[0;34m\u001b[0m\u001b[0m\n\u001b[0m\u001b[1;32m      2\u001b[0m \u001b[0mprint\u001b[0m\u001b[0;34m(\u001b[0m\u001b[0;34m\"-\"\u001b[0m\u001b[0;34m*\u001b[0m\u001b[0;36m20\u001b[0m\u001b[0;34m)\u001b[0m\u001b[0;34m\u001b[0m\u001b[0;34m\u001b[0m\u001b[0m\n\u001b[1;32m      3\u001b[0m \u001b[0;34m\u001b[0m\u001b[0m\n\u001b[1;32m      4\u001b[0m \u001b[0;32mif\u001b[0m \u001b[0mscore\u001b[0m \u001b[0;34m>=\u001b[0m \u001b[0;36m90\u001b[0m\u001b[0;34m:\u001b[0m\u001b[0;34m\u001b[0m\u001b[0;34m\u001b[0m\u001b[0m\n\u001b[1;32m      5\u001b[0m   \u001b[0mgrade\u001b[0m \u001b[0;34m=\u001b[0m \u001b[0;34m\"A\"\u001b[0m\u001b[0;34m\u001b[0m\u001b[0;34m\u001b[0m\u001b[0m\n",
            "\u001b[0;32m/usr/local/lib/python3.10/dist-packages/ipykernel/kernelbase.py\u001b[0m in \u001b[0;36mraw_input\u001b[0;34m(self, prompt)\u001b[0m\n\u001b[1;32m    849\u001b[0m                 \u001b[0;34m\"raw_input was called, but this frontend does not support input requests.\"\u001b[0m\u001b[0;34m\u001b[0m\u001b[0;34m\u001b[0m\u001b[0m\n\u001b[1;32m    850\u001b[0m             )\n\u001b[0;32m--> 851\u001b[0;31m         return self._input_request(str(prompt),\n\u001b[0m\u001b[1;32m    852\u001b[0m             \u001b[0mself\u001b[0m\u001b[0;34m.\u001b[0m\u001b[0m_parent_ident\u001b[0m\u001b[0;34m,\u001b[0m\u001b[0;34m\u001b[0m\u001b[0;34m\u001b[0m\u001b[0m\n\u001b[1;32m    853\u001b[0m             \u001b[0mself\u001b[0m\u001b[0;34m.\u001b[0m\u001b[0m_parent_header\u001b[0m\u001b[0;34m,\u001b[0m\u001b[0;34m\u001b[0m\u001b[0;34m\u001b[0m\u001b[0m\n",
            "\u001b[0;32m/usr/local/lib/python3.10/dist-packages/ipykernel/kernelbase.py\u001b[0m in \u001b[0;36m_input_request\u001b[0;34m(self, prompt, ident, parent, password)\u001b[0m\n\u001b[1;32m    893\u001b[0m             \u001b[0;32mexcept\u001b[0m \u001b[0mKeyboardInterrupt\u001b[0m\u001b[0;34m:\u001b[0m\u001b[0;34m\u001b[0m\u001b[0;34m\u001b[0m\u001b[0m\n\u001b[1;32m    894\u001b[0m                 \u001b[0;31m# re-raise KeyboardInterrupt, to truncate traceback\u001b[0m\u001b[0;34m\u001b[0m\u001b[0;34m\u001b[0m\u001b[0m\n\u001b[0;32m--> 895\u001b[0;31m                 \u001b[0;32mraise\u001b[0m \u001b[0mKeyboardInterrupt\u001b[0m\u001b[0;34m(\u001b[0m\u001b[0;34m\"Interrupted by user\"\u001b[0m\u001b[0;34m)\u001b[0m \u001b[0;32mfrom\u001b[0m \u001b[0;32mNone\u001b[0m\u001b[0;34m\u001b[0m\u001b[0;34m\u001b[0m\u001b[0m\n\u001b[0m\u001b[1;32m    896\u001b[0m             \u001b[0;32mexcept\u001b[0m \u001b[0mException\u001b[0m \u001b[0;32mas\u001b[0m \u001b[0me\u001b[0m\u001b[0;34m:\u001b[0m\u001b[0;34m\u001b[0m\u001b[0;34m\u001b[0m\u001b[0m\n\u001b[1;32m    897\u001b[0m                 \u001b[0mself\u001b[0m\u001b[0;34m.\u001b[0m\u001b[0mlog\u001b[0m\u001b[0;34m.\u001b[0m\u001b[0mwarning\u001b[0m\u001b[0;34m(\u001b[0m\u001b[0;34m\"Invalid Message:\"\u001b[0m\u001b[0;34m,\u001b[0m \u001b[0mexc_info\u001b[0m\u001b[0;34m=\u001b[0m\u001b[0;32mTrue\u001b[0m\u001b[0;34m)\u001b[0m\u001b[0;34m\u001b[0m\u001b[0;34m\u001b[0m\u001b[0m\n",
            "\u001b[0;31mKeyboardInterrupt\u001b[0m: Interrupted by user"
          ]
        }
      ],
      "source": [
        "score = float(input('성적을 입력해 주세요: '))\n",
        "print(\"-\"*20)\n",
        "\n",
        "if score >= 90:\n",
        "  grade = \"A\"\n",
        "elif score >= 80:\n",
        "  grade = \"B\"\n",
        "elif score >= 70:\n",
        "  grade = \"c\"\n",
        "else:\n",
        "  grade = \"D\"\n",
        "\n",
        "print(f'성적: {score}는 {grade}등급 입니다.')"
      ]
    },
    {
      "cell_type": "code",
      "execution_count": null,
      "metadata": {
        "id": "0RMBJYbW5-G3"
      },
      "outputs": [],
      "source": [
        "score = float(input('현재 온도를 입력 해 보렴: '))\n",
        "print(\"-\"*20)\n",
        "\n",
        "if score >= 30:\n",
        "  grade = \"에어컨을 키는게 어떻겠니?\"\n",
        "elif score <= 80:\n",
        "  grade = \"춥단다 내복을 입으렴\"\n",
        "elif score <= 10:\n",
        "  grade = \"난방기 키렴\"\n",
        "else:\n",
        "  grade = \"안심하렴\"\n",
        "\n",
        "print(f'성적:  {grade}')"
      ]
    },
    {
      "cell_type": "code",
      "execution_count": null,
      "metadata": {
        "colab": {
          "base_uri": "https://localhost:8080/"
        },
        "id": "Vr1S8gfa770C",
        "outputId": "ad8dd9b0-21aa-48a4-9c5a-876c88e439dc"
      },
      "outputs": [
        {
          "name": "stdout",
          "output_type": "stream",
          "text": [
            "현재 온도를 입력 해 보렴: 20\n",
            "--------------------\n",
            "{'춥단다 내복을 입으렴'}\n"
          ]
        }
      ],
      "source": [
        "score = float(input('현재 온도를 입력 해 보렴: '))\n",
        "print(\"-\"*20)\n",
        "\n",
        "if score >= 30:\n",
        "  grade = \"에어컨을 키는게 어떻겠니?\"\n",
        "elif score <= 80:\n",
        "  grade = \"춥단다 내복을 입으렴\"\n",
        "elif score <= 10:\n",
        "  grade = \"난방기 키렴\"\n",
        "else:\n",
        "  grade = \"안심하렴\"\n",
        "\n",
        "print({grade})"
      ]
    },
    {
      "cell_type": "code",
      "execution_count": null,
      "metadata": {
        "colab": {
          "base_uri": "https://localhost:8080/"
        },
        "id": "yb8PvxrM8Aer",
        "outputId": "14f02f30-2983-45b9-eb85-7e5620b64534"
      },
      "outputs": [
        {
          "name": "stdout",
          "output_type": "stream",
          "text": [
            "현재 온도를 입력 해 보렴: 20\n",
            "--------------------\n",
            "성적:  춥단다 내복을 입으렴\n"
          ]
        }
      ],
      "source": [
        "score = float(input('현재 온도를 입력 해 보렴: '))\n",
        "print(\"-\"*20)\n",
        "\n",
        "if score >= 30:\n",
        "  grade = \"에어컨을 켜는 게 어떻겠니?\n",
        "elif score <= 80:\n",
        "  grade = \"춥단다 내복을 입으렴\"\n",
        "elif score <= 10:\n",
        "  grade = \"난방기 키렴\"\n",
        "else:\n",
        "  grade = \"안심하렴\"\n",
        "\n",
        "print(f'성적:  {grade}')\n"
      ]
    },
    {
      "cell_type": "code",
      "execution_count": null,
      "metadata": {
        "colab": {
          "base_uri": "https://localhost:8080/",
          "height": 410
        },
        "id": "st0GAj9E8jRr",
        "outputId": "9fb56422-deef-47d8-a772-c76622261eda"
      },
      "outputs": [
        {
          "ename": "KeyboardInterrupt",
          "evalue": "ignored",
          "output_type": "error",
          "traceback": [
            "\u001b[0;31m---------------------------------------------------------------------------\u001b[0m",
            "\u001b[0;31mKeyboardInterrupt\u001b[0m                         Traceback (most recent call last)",
            "\u001b[0;32m<ipython-input-46-10f694c82ada>\u001b[0m in \u001b[0;36m<cell line: 1>\u001b[0;34m()\u001b[0m\n\u001b[0;32m----> 1\u001b[0;31m \u001b[0mscore\u001b[0m \u001b[0;34m=\u001b[0m \u001b[0mfloat\u001b[0m\u001b[0;34m(\u001b[0m\u001b[0minput\u001b[0m\u001b[0;34m(\u001b[0m\u001b[0;34m'현재 온도를 입력 해 보렴: '\u001b[0m\u001b[0;34m)\u001b[0m\u001b[0;34m)\u001b[0m\u001b[0;34m\u001b[0m\u001b[0;34m\u001b[0m\u001b[0m\n\u001b[0m\u001b[1;32m      2\u001b[0m \u001b[0mprint\u001b[0m\u001b[0;34m(\u001b[0m\u001b[0;34m\"-\"\u001b[0m\u001b[0;34m*\u001b[0m\u001b[0;36m20\u001b[0m\u001b[0;34m)\u001b[0m\u001b[0;34m\u001b[0m\u001b[0;34m\u001b[0m\u001b[0m\n\u001b[1;32m      3\u001b[0m \u001b[0;34m\u001b[0m\u001b[0m\n\u001b[1;32m      4\u001b[0m \u001b[0;32mif\u001b[0m \u001b[0mscore\u001b[0m \u001b[0;34m>=\u001b[0m \u001b[0;36m30\u001b[0m\u001b[0;34m:\u001b[0m\u001b[0;34m\u001b[0m\u001b[0;34m\u001b[0m\u001b[0m\n\u001b[1;32m      5\u001b[0m   \u001b[0mget_ipython\u001b[0m\u001b[0;34m(\u001b[0m\u001b[0;34m)\u001b[0m\u001b[0;34m.\u001b[0m\u001b[0mrun_line_magic\u001b[0m\u001b[0;34m(\u001b[0m\u001b[0;34m'pinfo'\u001b[0m\u001b[0;34m,\u001b[0m \u001b[0;34m'어떻겠니'\u001b[0m\u001b[0;34m)\u001b[0m\u001b[0;34m\u001b[0m\u001b[0;34m\u001b[0m\u001b[0m\n",
            "\u001b[0;32m/usr/local/lib/python3.10/dist-packages/ipykernel/kernelbase.py\u001b[0m in \u001b[0;36mraw_input\u001b[0;34m(self, prompt)\u001b[0m\n\u001b[1;32m    849\u001b[0m                 \u001b[0;34m\"raw_input was called, but this frontend does not support input requests.\"\u001b[0m\u001b[0;34m\u001b[0m\u001b[0;34m\u001b[0m\u001b[0m\n\u001b[1;32m    850\u001b[0m             )\n\u001b[0;32m--> 851\u001b[0;31m         return self._input_request(str(prompt),\n\u001b[0m\u001b[1;32m    852\u001b[0m             \u001b[0mself\u001b[0m\u001b[0;34m.\u001b[0m\u001b[0m_parent_ident\u001b[0m\u001b[0;34m,\u001b[0m\u001b[0;34m\u001b[0m\u001b[0;34m\u001b[0m\u001b[0m\n\u001b[1;32m    853\u001b[0m             \u001b[0mself\u001b[0m\u001b[0;34m.\u001b[0m\u001b[0m_parent_header\u001b[0m\u001b[0;34m,\u001b[0m\u001b[0;34m\u001b[0m\u001b[0;34m\u001b[0m\u001b[0m\n",
            "\u001b[0;32m/usr/local/lib/python3.10/dist-packages/ipykernel/kernelbase.py\u001b[0m in \u001b[0;36m_input_request\u001b[0;34m(self, prompt, ident, parent, password)\u001b[0m\n\u001b[1;32m    893\u001b[0m             \u001b[0;32mexcept\u001b[0m \u001b[0mKeyboardInterrupt\u001b[0m\u001b[0;34m:\u001b[0m\u001b[0;34m\u001b[0m\u001b[0;34m\u001b[0m\u001b[0m\n\u001b[1;32m    894\u001b[0m                 \u001b[0;31m# re-raise KeyboardInterrupt, to truncate traceback\u001b[0m\u001b[0;34m\u001b[0m\u001b[0;34m\u001b[0m\u001b[0m\n\u001b[0;32m--> 895\u001b[0;31m                 \u001b[0;32mraise\u001b[0m \u001b[0mKeyboardInterrupt\u001b[0m\u001b[0;34m(\u001b[0m\u001b[0;34m\"Interrupted by user\"\u001b[0m\u001b[0;34m)\u001b[0m \u001b[0;32mfrom\u001b[0m \u001b[0;32mNone\u001b[0m\u001b[0;34m\u001b[0m\u001b[0;34m\u001b[0m\u001b[0m\n\u001b[0m\u001b[1;32m    896\u001b[0m             \u001b[0;32mexcept\u001b[0m \u001b[0mException\u001b[0m \u001b[0;32mas\u001b[0m \u001b[0me\u001b[0m\u001b[0;34m:\u001b[0m\u001b[0;34m\u001b[0m\u001b[0;34m\u001b[0m\u001b[0m\n\u001b[1;32m    897\u001b[0m                 \u001b[0mself\u001b[0m\u001b[0;34m.\u001b[0m\u001b[0mlog\u001b[0m\u001b[0;34m.\u001b[0m\u001b[0mwarning\u001b[0m\u001b[0;34m(\u001b[0m\u001b[0;34m\"Invalid Message:\"\u001b[0m\u001b[0;34m,\u001b[0m \u001b[0mexc_info\u001b[0m\u001b[0;34m=\u001b[0m\u001b[0;32mTrue\u001b[0m\u001b[0;34m)\u001b[0m\u001b[0;34m\u001b[0m\u001b[0;34m\u001b[0m\u001b[0m\n",
            "\u001b[0;31mKeyboardInterrupt\u001b[0m: Interrupted by user"
          ]
        }
      ],
      "source": [
        "score = float(input('현재 온도를 입력 해 보렴: '))\n",
        "print(\"-\"*20)\n",
        "\n",
        "if score >= 30:\n",
        "  grade = \"에어컨을 켜는 게 어떻겠니?\n",
        "elif score <= 80:\n",
        "  grade = \"춥단다 내복을 입으렴\"\n",
        "elif score <= 10:\n",
        "  grade = \"난방기 키렴\"\n",
        "else:\n",
        "  grade = \"안심하렴\"\n",
        "\n",
        "print(f'성적:  {grade}')\n",
        "\n"
      ]
    },
    {
      "cell_type": "code",
      "execution_count": null,
      "metadata": {
        "id": "3A0Dns3j_2qN"
      },
      "outputs": [],
      "source": [
        "userid = input('주민번호 :')\n",
        "yy = Userid[:2]\n",
        "mm = Userid[2:4]\n",
        "dd = Userid[4:6]\n",
        "\n",
        "print(f'(yy)'년 (mm)월 (dd)일')\n"
      ]
    },
    {
      "cell_type": "code",
      "execution_count": null,
      "metadata": {
        "id": "b351Lu88BqVt"
      },
      "outputs": [],
      "source": [
        "userid = input('주민번호 :')\n",
        "yy = Userid[:2]\n",
        "mm = Userid[2:4]\n",
        "dd = Userid[4:6]\n",
        "\n",
        "print(f'(yy)'년 (mm)월 (dd)일')}"
      ]
    },
    {
      "cell_type": "code",
      "execution_count": null,
      "metadata": {
        "id": "sLEQ3qRbBt0V"
      },
      "outputs": [],
      "source": [
        "userid = input('주민번호 :')\n",
        "yy = Userid[:2]\n",
        "mm = Userid[2:4]\n",
        "dd = Userid[4:6]\n",
        "\n",
        "print(f'(yy)'년 (mm)월 (dd)일')"
      ]
    },
    {
      "cell_type": "code",
      "execution_count": null,
      "metadata": {
        "id": "oJVZpJHfBuQS"
      },
      "outputs": [],
      "source": [
        "userid = input('주민번호 :')\n",
        "yy = Userid[:2]\n",
        "mm = Userid[2:4]\n",
        "dd = Userid[4:6]\n",
        "\n",
        "print(f'(yy)'년 (mm)월 (dd)일')\n"
      ]
    },
    {
      "cell_type": "code",
      "execution_count": null,
      "metadata": {
        "id": "UC6fCKxbHG1K"
      },
      "outputs": [],
      "source": [
        "### [실습문제] 조건문을 이용한 키오스크 주문 프로그램 만들기 ----------------------\n",
        "coffee1_price = 2500\n",
        "coffee2_price = 3000\n",
        "coffee3_price = 3000\n",
        "menu = f'''[커피 자동주문 머신 메뉴]\n",
        "------------------------\n",
        "- 아메리카노:  {coffee1_price}원\n",
        "- 카페라떼:    {coffee2_price}원\n",
        "- 카푸치노:    {coffee3_price}원\n",
        "------------------------\n",
        "원하시는 커피종류와 잔수를 입력하세요!\n",
        "'''\n",
        "print(menu)\n",
        "coffee1 = int(input('아메리카노 몇잔: '))\n",
        "coffee2 = int(input('카페라떼   몇잔: '))\n",
        "coffee3 = int(input('카푸치노   몇잔: '))\n",
        "total = coffee1_price*coffee1 + coffee2_price*coffee2 + coffee3_price*coffee3\n",
        "print(f'주문하신 총 가격은 {total}원 입니다.')\n",
        "\n",
        "money = int(input('돈을 입력해주세요: '))\n",
        "if total > money:\n",
        "  print(f'{total-money}원이 부족합니다. 돈을 더 넣어주세요.')\n",
        "else:\n",
        "  print(f'거스름돈은 {abs(total-money)}원 입니다. 커피 맛있게 드세요~')\n",
        "\n"
      ]
    },
    {
      "cell_type": "code",
      "execution_count": null,
      "metadata": {
        "colab": {
          "base_uri": "https://localhost:8080/",
          "height": 147
        },
        "id": "BfEvdWeDJc-V",
        "outputId": "96c93cbc-f0ed-49cd-8150-14aa912bbe89"
      },
      "outputs": [
        {
          "ename": "SyntaxError",
          "evalue": "ignored",
          "output_type": "error",
          "traceback": [
            "\u001b[0;36m  File \u001b[0;32m\"<ipython-input-48-356aeccb8e5c>\"\u001b[0;36m, line \u001b[0;32m1\u001b[0m\n\u001b[0;31m    0000 주문프로그램 만들어오기\u001b[0m\n\u001b[0m         ^\u001b[0m\n\u001b[0;31mSyntaxError\u001b[0m\u001b[0;31m:\u001b[0m invalid syntax\n"
          ]
        }
      ],
      "source": [
        "0000 주문프로그램 만들어오기\n"
      ]
    },
    {
      "cell_type": "code",
      "execution_count": null,
      "metadata": {
        "colab": {
          "base_uri": "https://localhost:8080/",
          "height": 515
        },
        "id": "HKu0cr4zJrY_",
        "outputId": "ecffff25-068c-450e-f5e5-7c7d860a2728"
      },
      "outputs": [
        {
          "name": "stdout",
          "output_type": "stream",
          "text": [
            "[햄버거 토핑 주문 메뉴]\n",
            "---------------------------\n",
            "-기본 2000원이 추가됩니다.\n",
            "-패티:2000원\n",
            "-새우:1500원\n",
            "-상추:1500원\n",
            "-베이컨:1200원\n",
            "-양파:1000원\n",
            "-치즈:1000원\n",
            "---------------------------\n",
            "각 토핑 수량을 입력해주세요\n",
            "\n",
            "패티 몇 개?2\n",
            "새우 몇 마리?\n"
          ]
        },
        {
          "ename": "ValueError",
          "evalue": "ignored",
          "output_type": "error",
          "traceback": [
            "\u001b[0;31m---------------------------------------------------------------------------\u001b[0m",
            "\u001b[0;31mValueError\u001b[0m                                Traceback (most recent call last)",
            "\u001b[0;32m<ipython-input-1-3f7a68c4af1b>\u001b[0m in \u001b[0;36m<cell line: 21>\u001b[0;34m()\u001b[0m\n\u001b[1;32m     19\u001b[0m \u001b[0mprint\u001b[0m\u001b[0;34m(\u001b[0m\u001b[0mmenu\u001b[0m\u001b[0;34m)\u001b[0m\u001b[0;34m\u001b[0m\u001b[0;34m\u001b[0m\u001b[0m\n\u001b[1;32m     20\u001b[0m \u001b[0mpatty\u001b[0m\u001b[0;34m=\u001b[0m\u001b[0mint\u001b[0m\u001b[0;34m(\u001b[0m\u001b[0minput\u001b[0m\u001b[0;34m(\u001b[0m\u001b[0;34m'패티 몇 개?'\u001b[0m\u001b[0;34m)\u001b[0m\u001b[0;34m)\u001b[0m\u001b[0;34m\u001b[0m\u001b[0;34m\u001b[0m\u001b[0m\n\u001b[0;32m---> 21\u001b[0;31m \u001b[0mshrimp\u001b[0m\u001b[0;34m=\u001b[0m\u001b[0mint\u001b[0m\u001b[0;34m(\u001b[0m\u001b[0minput\u001b[0m\u001b[0;34m(\u001b[0m\u001b[0;34m'새우 몇 마리?'\u001b[0m\u001b[0;34m)\u001b[0m\u001b[0;34m)\u001b[0m\u001b[0;34m\u001b[0m\u001b[0;34m\u001b[0m\u001b[0m\n\u001b[0m\u001b[1;32m     22\u001b[0m \u001b[0mlettuce\u001b[0m\u001b[0;34m=\u001b[0m\u001b[0mint\u001b[0m\u001b[0;34m(\u001b[0m\u001b[0minput\u001b[0m\u001b[0;34m(\u001b[0m\u001b[0;34m'상추 몇 장?'\u001b[0m\u001b[0;34m)\u001b[0m\u001b[0;34m)\u001b[0m\u001b[0;34m\u001b[0m\u001b[0;34m\u001b[0m\u001b[0m\n\u001b[1;32m     23\u001b[0m \u001b[0mbacon\u001b[0m\u001b[0;34m=\u001b[0m\u001b[0mint\u001b[0m\u001b[0;34m(\u001b[0m\u001b[0minput\u001b[0m\u001b[0;34m(\u001b[0m\u001b[0;34m'베이컨 몇 조각?'\u001b[0m\u001b[0;34m)\u001b[0m\u001b[0;34m)\u001b[0m\u001b[0;34m\u001b[0m\u001b[0;34m\u001b[0m\u001b[0m\n",
            "\u001b[0;31mValueError\u001b[0m: invalid literal for int() with base 10: ''"
          ]
        }
      ],
      "source": [
        "patty_price=2000\n",
        "shrimp_price=1500\n",
        "lettuce_price=1500\n",
        "bacon_price=1200\n",
        "onion_price=1000\n",
        "cheese_price=1000\n",
        "menu=f'''[햄버거 토핑 주문 메뉴]\n",
        "---------------------------\n",
        "-기본 2000원이 추가됩니다.\n",
        "-패티:{patty_price}원\n",
        "-새우:{shrimp_price}원\n",
        "-상추:{lettuce_price}원\n",
        "-베이컨:{bacon_price}원\n",
        "-양파:{onion_price}원\n",
        "-치즈:{cheese_price}원\n",
        "---------------------------\n",
        "각 토핑 수량을 입력해주세요\n",
        "'''\n",
        "print(menu)\n",
        "patty=int(input('패티 몇 개?'))\n",
        "shrimp=int(input('새우 몇 마리?'))\n",
        "lettuce=int(input('상추 몇 장?'))\n",
        "bacon=int(input('베이컨 몇 조각?'))\n",
        "onion=int(input('양파 몇 조각?'))\n",
        "cheese=int(input('치즈 몇 장?'))\n",
        "bacon=int(input('베이컨 몇 조각?'))\n",
        "price=2000+patty * patty_price + lettuce* lettuce_price + onion * onion_price +shrimp*shrimp_price + cheese * cheese_price + bacon * bacon_price\n",
        "print(f'총 가격은 {price:,}원 입니다.')\n",
        "print(f'주문하신 메뉴는 패티{patty}개, 새우{shrimp}마리, 상추{lettuce}장, 베이컨{bacon}조각',end=', ')\n",
        "print(f'양파 {onion}조각, 치즈 {cheese}장, 베이컨 {bacon}조각입니다. 메뉴가 맞으면 돈을 입력해주세요.')\n",
        "money=int(input('돈을 입력해주세요: '))\n",
        "if price>money:\n",
        "  print(f'고객님 {price-money:,}원이 부족해요.')\n",
        "if price==money:\n",
        "  print('감사합니다. 주문이 완료 되었습니다.')\n",
        "if price<money:\n",
        "  print(f'감사합니다. 잔돈은 {money-price:,}원입니다.')\n"
      ]
    },
    {
      "cell_type": "markdown",
      "metadata": {
        "id": "qi_NDQEm7Yes"
      },
      "source": [
        "# 새 섹션"
      ]
    },
    {
      "cell_type": "code",
      "execution_count": null,
      "metadata": {
        "colab": {
          "base_uri": "https://localhost:8080/"
        },
        "id": "imAdxTmf-Yml",
        "outputId": "f0806d6b-cfb2-48e6-e42a-388c64a366ac"
      },
      "outputs": [
        {
          "name": "stdout",
          "output_type": "stream",
          "text": [
            "0 안녕하세요, 파이썬 수업시간입니다\n",
            "2 안녕하세요, 파이썬 수업시간입니다\n",
            "4 안녕하세요, 파이썬 수업시간입니다\n",
            "6 안녕하세요, 파이썬 수업시간입니다\n",
            "8 안녕하세요, 파이썬 수업시간입니다\n"
          ]
        }
      ],
      "source": [
        "for 번호 in range(0,10,2):\n",
        "  print(f'{번호} 안녕하세요, 파이썬 수업시간입니다')"
      ]
    },
    {
      "cell_type": "code",
      "execution_count": null,
      "metadata": {
        "colab": {
          "base_uri": "https://localhost:8080/"
        },
        "id": "h-Xr7Qbh-yqh",
        "outputId": "ada9415f-5051-4d00-cca4-d3570a67e90f"
      },
      "outputs": [
        {
          "name": "stdout",
          "output_type": "stream",
          "text": [
            "출력할 구구단의 숫자를 입력하세요: 5\n",
            "5단 출력\n",
            "5 x 1 = 5\n",
            "5 x 2 = 10\n",
            "5 x 3 = 15\n",
            "5 x 4 = 20\n",
            "5 x 5 = 25\n",
            "5 x 6 = 30\n",
            "5 x 7 = 35\n",
            "5 x 8 = 40\n",
            "5 x 9 = 45\n"
          ]
        }
      ],
      "source": [
        "dan = int(input(\"출력할 구구단의 숫자를 입력하세요: \"))\n",
        "\n",
        "print(f\"{dan}단 출력\")\n",
        "for i in range(1, 10):\n",
        "    result = dan * i\n",
        "    print(f\"{dan} x {i} = {result}\")\n"
      ]
    },
    {
      "cell_type": "code",
      "execution_count": null,
      "metadata": {
        "colab": {
          "base_uri": "https://localhost:8080/"
        },
        "id": "3TKbNEbPpYoo",
        "outputId": "ee06a2a3-e0c0-4aa4-d6cb-fb5b95939c1f"
      },
      "outputs": [
        {
          "name": "stdout",
          "output_type": "stream",
          "text": [
            "5\n",
            "10\n",
            "0.005400067008178633\n",
            "0.6726907590603539\n",
            "[1, 2, 3, 4, 5, 6, 7, 8, 9, 10]\n",
            "[6, 3, 10, 9, 8, 2, 5, 1, 4, 7]\n",
            "3\n",
            "로또번호 출력:  [5, 7, 2, 39, 1, 3]\n",
            "로또번호 정렬해서 출력:  [5, 11, 17, 24, 35, 39]\n"
          ]
        }
      ],
      "source": [
        "import random\n",
        "\n",
        "# 임의의 정수\n",
        "print( random.randint(1, 10)  )       # 1~10까지 정수 중 하나 선택\n",
        "print( random.randrange(1, 11, 1) )   # 1~11미만 정수 중 하나 선택\n",
        "\n",
        "# 임의의 실수\n",
        "print( random.random() )              # 0~1 사이의 임의의 실수\n",
        "print( random.uniform(0.5, 1) )       # start~end 사이의 임의의 실수\n",
        "\n",
        "# 리스트 섞기\n",
        "a = [1,2,3,4,5,6,7,8,9,10]\n",
        "print(a)\n",
        "random.shuffle(a)\n",
        "print(a)\n",
        "\n",
        "# 리스트 요소 중에 하나 선택하기\n",
        "print(random.choice(a))\n",
        "\n",
        "# 리스트 요소 중에 개수 지정해서 선택하기\n",
        "print('로또번호 출력: ',random.sample(range(1,46), 6))\n",
        "print('로또번호 정렬해서 출력: ',sorted(random.sample(range(1,46), 6)) )"
      ]
    },
    {
      "cell_type": "code",
      "execution_count": null,
      "metadata": {
        "colab": {
          "base_uri": "https://localhost:8080/"
        },
        "id": "Quu3VTgXZaJ5",
        "outputId": "8a101411-9550-4c0f-8901-68c936e4adab"
      },
      "outputs": [
        {
          "name": "stdout",
          "output_type": "stream",
          "text": [
            "# 2단  # 3단  # 4단  # 5단  # 6단  # 7단  # 8단  # 9단  \n",
            "------------------------------------------------------------\n",
            "2x1= 2 3x1= 3 4x1= 4 5x1= 5 6x1= 6 7x1= 7 8x1= 8 9x1= 9 \n",
            "2x2= 4 3x2= 6 4x2= 8 5x2=10 6x2=12 7x2=14 8x2=16 9x2=18 \n",
            "2x3= 6 3x3= 9 4x3=12 5x3=15 6x3=18 7x3=21 8x3=24 9x3=27 \n",
            "2x4= 8 3x4=12 4x4=16 5x4=20 6x4=24 7x4=28 8x4=32 9x4=36 \n",
            "2x5=10 3x5=15 4x5=20 5x5=25 6x5=30 7x5=35 8x5=40 9x5=45 \n",
            "2x6=12 3x6=18 4x6=24 5x6=30 6x6=36 7x6=42 8x6=48 9x6=54 \n",
            "2x7=14 3x7=21 4x7=28 5x7=35 6x7=42 7x7=49 8x7=56 9x7=63 \n",
            "2x8=16 3x8=24 4x8=32 5x8=40 6x8=48 7x8=56 8x8=64 9x8=72 \n",
            "2x9=18 3x9=27 4x9=36 5x9=45 6x9=54 7x9=63 8x9=72 9x9=81 \n"
          ]
        }
      ],
      "source": [
        "for i in range(2,10):\n",
        "  print(f'# {i}단 ', end=' ')\n",
        "# print()  # '\\n'\n",
        "print('\\n'+'-'*60)\n",
        "\n",
        "for i in range(1,10):\n",
        "  for k in range(2,10):\n",
        "    print(f'{k}x{i}={i*k:>2}', end=' ')\n",
        "  print()"
      ]
    },
    {
      "cell_type": "code",
      "source": [],
      "metadata": {
        "id": "yCHQXfeFArlp"
      },
      "execution_count": null,
      "outputs": []
    },
    {
      "cell_type": "code",
      "execution_count": null,
      "metadata": {
        "id": "wiLmMvIE2UMG"
      },
      "outputs": [],
      "source": [
        "import random\n",
        "\n",
        "# 임의의 정수\n",
        "print( random.randint(1, 6)  )       # 1~10까지 정수 중 하나 선택\n",
        "print( random.randrange(1, 11, 1) )   # 1~11미만 정수 중 하나 선택\n"
      ]
    },
    {
      "cell_type": "markdown",
      "metadata": {
        "id": "yUxlG_xu2ONV"
      },
      "source": []
    },
    {
      "cell_type": "code",
      "execution_count": null,
      "metadata": {
        "colab": {
          "base_uri": "https://localhost:8080/"
        },
        "id": "YSUV_EqJ3bkZ",
        "outputId": "810f3b7d-132a-4535-ab02-767257ceb3d2"
      },
      "outputs": [
        {
          "name": "stdout",
          "output_type": "stream",
          "text": [
            "주사위를 5번 던져서 비교하는 프로그램입니다.\n",
            "-----1번째 시도입니다.\n",
            "A 결과: [1], B 결과:[4]\n",
            "B가 이겼습니다.\n",
            "-----2번째 시도입니다.\n",
            "A 결과: [1], B 결과:[6]\n",
            "B가 이겼습니다.\n",
            "-----3번째 시도입니다.\n",
            "A 결과: [1], B 결과:[3]\n",
            "B가 이겼습니다.\n",
            "-----4번째 시도입니다.\n",
            "A 결과: [2], B 결과:[3]\n",
            "B가 이겼습니다.\n",
            "-----5번째 시도입니다.\n",
            "A 결과: [3], B 결과:[1]\n",
            "A가 이겼습니다.\n"
          ]
        }
      ],
      "source": [
        "##주사위 비교 프로그램\n",
        "\n",
        "print('주사위를 5번 던져서 비교하는 프로그램입니다.')\n",
        "\n",
        "for n in range (1,6):\n",
        "  print(f'-----{n}번째 시도입니다.')\n",
        "  a=random.randint(1,6)\n",
        "  b=random.randint(1,6)\n",
        "\n",
        "  print(f'A 결과: [{a}], B 결과:[{b}]')\n",
        "  if a>b:\n",
        "    print('A가 이겼습니다.')\n",
        "  elif a==b:\n",
        "      print('A와 B가 비겼습니다.')\n",
        "  else:\n",
        "      print('B가 이겼습니다.')"
      ]
    },
    {
      "cell_type": "code",
      "execution_count": null,
      "metadata": {
        "colab": {
          "base_uri": "https://localhost:8080/",
          "height": 258
        },
        "id": "3-c5_ODF3b_1",
        "outputId": "cdbc7ca4-2637-43c3-b944-1708c5ceddf2"
      },
      "outputs": [
        {
          "ename": "ValueError",
          "evalue": "ignored",
          "output_type": "error",
          "traceback": [
            "\u001b[0;31m---------------------------------------------------------------------------\u001b[0m",
            "\u001b[0;31mValueError\u001b[0m                                Traceback (most recent call last)",
            "\u001b[0;32m<ipython-input-4-dad090c71b00>\u001b[0m in \u001b[0;36m<cell line: 3>\u001b[0;34m()\u001b[0m\n\u001b[1;32m      1\u001b[0m \u001b[0;32mimport\u001b[0m \u001b[0mrandom\u001b[0m\u001b[0;34m\u001b[0m\u001b[0;34m\u001b[0m\u001b[0m\n\u001b[1;32m      2\u001b[0m \u001b[0;34m\u001b[0m\u001b[0m\n\u001b[0;32m----> 3\u001b[0;31m \u001b[0md1\u001b[0m\u001b[0;34m,\u001b[0m \u001b[0md2\u001b[0m\u001b[0;34m,\u001b[0m \u001b[0md3\u001b[0m\u001b[0;34m,\u001b[0m \u001b[0md4\u001b[0m\u001b[0;34m,\u001b[0m \u001b[0md6\u001b[0m \u001b[0;34m=\u001b[0m \u001b[0;36m0\u001b[0m\u001b[0;34m,\u001b[0m\u001b[0;36m0\u001b[0m\u001b[0;34m,\u001b[0m\u001b[0;36m0\u001b[0m\u001b[0;34m,\u001b[0m\u001b[0;36m0\u001b[0m\u001b[0;34m,\u001b[0m\u001b[0;36m0\u001b[0m\u001b[0;34m,\u001b[0m\u001b[0;36m0\u001b[0m\u001b[0;34m\u001b[0m\u001b[0;34m\u001b[0m\u001b[0m\n\u001b[0m\u001b[1;32m      4\u001b[0m \u001b[0;32mfor\u001b[0m \u001b[0mi\u001b[0m \u001b[0;32min\u001b[0m \u001b[0mrange\u001b[0m\u001b[0;34m(\u001b[0m\u001b[0;36m100\u001b[0m\u001b[0;34m)\u001b[0m \u001b[0;34m:\u001b[0m\u001b[0;34m\u001b[0m\u001b[0;34m\u001b[0m\u001b[0m\n\u001b[1;32m      5\u001b[0m   \u001b[0mnum\u001b[0m \u001b[0;34m=\u001b[0m \u001b[0mrandom\u001b[0m\u001b[0;34m.\u001b[0m\u001b[0mrandin\u001b[0m\u001b[0;34m(\u001b[0m\u001b[0;36m1\u001b[0m\u001b[0;34m,\u001b[0m\u001b[0;36m6\u001b[0m\u001b[0;34m)\u001b[0m\u001b[0;34m\u001b[0m\u001b[0;34m\u001b[0m\u001b[0m\n",
            "\u001b[0;31mValueError\u001b[0m: too many values to unpack (expected 5)"
          ]
        }
      ],
      "source": [
        "import random\n",
        "\n",
        "d1, d2, d3, d4, d6 = 0,0,0,0,0,0\n",
        "for i in range(100) :\n",
        "  num = random.randin(1,6)\n",
        "  if num == 1: d1 += 1\n",
        "  list = []\n",
        "num = []\n",
        "import random\n",
        "for _ in range(100):\n",
        "    list.append(random.randint(1, 6))\n",
        "for n in range(1, 7):\n",
        "    num.append(list.count(n))\n",
        "    print(f'주사위 숫자별 개수 : {n} [{num[n - 1]}회]')"
      ]
    },
    {
      "cell_type": "code",
      "execution_count": null,
      "metadata": {
        "colab": {
          "base_uri": "https://localhost:8080/"
        },
        "id": "5bjvUuNl7I5H",
        "outputId": "aaba5bd9-3584-481c-c26a-065fbfe40f59"
      },
      "outputs": [
        {
          "name": "stdout",
          "output_type": "stream",
          "text": [
            "주사위 숫자별 개수 : 1 [22회]\n",
            "주사위 숫자별 개수 : 2 [16회]\n",
            "주사위 숫자별 개수 : 3 [16회]\n",
            "주사위 숫자별 개수 : 4 [16회]\n",
            "주사위 숫자별 개수 : 5 [13회]\n",
            "주사위 숫자별 개수 : 6 [17회]\n"
          ]
        }
      ],
      "source": [
        "list = []\n",
        "num = []\n",
        "import random\n",
        "for _ in range(100):\n",
        "    list.append(random.randint(1, 6))\n",
        "for n in range(1, 7):\n",
        "    num.append(list.count(n))\n",
        "    print(f'주사위 숫자별 개수 : {n} [{num[n - 1]}회]')"
      ]
    },
    {
      "cell_type": "code",
      "execution_count": null,
      "metadata": {
        "colab": {
          "base_uri": "https://localhost:8080/"
        },
        "id": "blIanoCb7JU3",
        "outputId": "33397633-01ed-4368-e36f-e613c624901e"
      },
      "outputs": [
        {
          "name": "stdout",
          "output_type": "stream",
          "text": [
            "주사위 숫자의 나온 횟수: [18, 11, 15, 13, 24, 19]\n",
            "가장 큰 횟수: 24의 주사위 눈금은: 5 \n"
          ]
        }
      ],
      "source": [
        "# 중복값 처리 안된 코드\n",
        "import random\n",
        "\n",
        "dice = [0,0,0,0,0,0]\n",
        "for i in range(100):\n",
        "  num = random.randint(1, 6)\n",
        "  dice[num-1] = dice[num-1] + 1\n",
        "  # print(f'{i+1}회 시도 - 나온 수({num}), 주사위:{dice}')\n",
        "\n",
        "print(f'주사위 숫자의 나온 횟수: {dice}')\n",
        "print(f'가장 큰 횟수: {max(dice)}의 주사위 눈금은: {dice.index( max(dice) )+1} ')"
      ]
    },
    {
      "cell_type": "code",
      "execution_count": null,
      "metadata": {
        "colab": {
          "base_uri": "https://localhost:8080/"
        },
        "id": "zTJdM2Vv-5hS",
        "outputId": "9325c8fa-cab2-400e-9fd1-b99cf29e1c29"
      },
      "outputs": [
        {
          "name": "stdout",
          "output_type": "stream",
          "text": [
            "나무를 1번 찍었습니다.\n",
            "나무를 2번 찍었습니다.\n",
            "나무를 3번 찍었습니다.\n",
            "나무를 4번 찍었습니다.\n",
            "나무를 5번 찍었습니다.\n",
            "나무를 6번 찍었습니다.\n",
            "나무를 7번 찍었습니다.\n",
            "나무를 8번 찍었습니다.\n",
            "나무를 9번 찍었습니다.\n",
            "나무를 10번 찍었습니다.\n",
            "나무를 베었습니다!\n"
          ]
        }
      ],
      "source": [
        "##나무 찍어 넘기기 프로그램\n",
        "\n",
        "t=0\n",
        "while t<10:\n",
        "  t+=1\n",
        "  print(f'나무를 {t}번 찍었습니다.')\n",
        "print('나무를 베었습니다!')"
      ]
    },
    {
      "cell_type": "code",
      "execution_count": null,
      "metadata": {
        "colab": {
          "base_uri": "https://localhost:8080/",
          "height": 258
        },
        "id": "hz3MiSPIObsT",
        "outputId": "db01298f-3d81-42b4-e803-c4099e602476"
      },
      "outputs": [
        {
          "ename": "NameError",
          "evalue": "ignored",
          "output_type": "error",
          "traceback": [
            "\u001b[0;31m---------------------------------------------------------------------------\u001b[0m",
            "\u001b[0;31mNameError\u001b[0m                                 Traceback (most recent call last)",
            "\u001b[0;32m<ipython-input-8-801029e922f7>\u001b[0m in \u001b[0;36m<cell line: 4>\u001b[0;34m()\u001b[0m\n\u001b[1;32m      4\u001b[0m menu = f'''[커피 자동주문 머신 메뉴]\n\u001b[1;32m      5\u001b[0m \u001b[0;34m-\u001b[0m\u001b[0;34m-\u001b[0m\u001b[0;34m-\u001b[0m\u001b[0;34m-\u001b[0m\u001b[0;34m-\u001b[0m\u001b[0;34m-\u001b[0m\u001b[0;34m-\u001b[0m\u001b[0;34m-\u001b[0m\u001b[0;34m-\u001b[0m\u001b[0;34m-\u001b[0m\u001b[0;34m-\u001b[0m\u001b[0;34m-\u001b[0m\u001b[0;34m-\u001b[0m\u001b[0;34m-\u001b[0m\u001b[0;34m-\u001b[0m\u001b[0;34m-\u001b[0m\u001b[0;34m-\u001b[0m\u001b[0;34m-\u001b[0m\u001b[0;34m-\u001b[0m\u001b[0;34m-\u001b[0m\u001b[0;34m-\u001b[0m\u001b[0;34m-\u001b[0m\u001b[0;34m-\u001b[0m\u001b[0;34m-\u001b[0m\u001b[0;34m\u001b[0m\u001b[0;34m\u001b[0m\u001b[0m\n\u001b[0;32m----> 6\u001b[0;31m \u001b[0;34m-\u001b[0m \u001b[0m아메리카노\u001b[0m\u001b[0;34m:\u001b[0m  \u001b[0;34m{\u001b[0m\u001b[0mcoffee1_price\u001b[0m\u001b[0;34m}\u001b[0m\u001b[0m원\u001b[0m\u001b[0;34m\u001b[0m\u001b[0;34m\u001b[0m\u001b[0m\n\u001b[0m\u001b[1;32m      7\u001b[0m \u001b[0;34m-\u001b[0m \u001b[0m카페라떼\u001b[0m\u001b[0;34m:\u001b[0m    \u001b[0;34m{\u001b[0m\u001b[0mcoffee2_price\u001b[0m\u001b[0;34m}\u001b[0m\u001b[0m원\u001b[0m\u001b[0;34m\u001b[0m\u001b[0;34m\u001b[0m\u001b[0m\n\u001b[1;32m      8\u001b[0m \u001b[0;34m-\u001b[0m \u001b[0m카푸치노\u001b[0m\u001b[0;34m:\u001b[0m    \u001b[0;34m{\u001b[0m\u001b[0mcoffee3_price\u001b[0m\u001b[0;34m}\u001b[0m\u001b[0m원\u001b[0m\u001b[0;34m\u001b[0m\u001b[0;34m\u001b[0m\u001b[0m\n",
            "\u001b[0;31mNameError\u001b[0m: name 'coffee1_price' is not defined"
          ]
        }
      ],
      "source": [
        "#커피 주문 프로그램  반복문 이용해서 거스름돈 > 0까지 돈을 넣으라고 반복하기coffee1_price = 2500\n",
        "coffee2_price = 3000\n",
        "coffee3_price = 3000\n",
        "menu = f'''[커피 자동주문 머신 메뉴]\n",
        "------------------------\n",
        "- 아메리카노:  {coffee1_price}원\n",
        "- 카페라떼:    {coffee2_price}원\n",
        "- 카푸치노:    {coffee3_price}원\n",
        "------------------------\n",
        "원하시는 커피종류와 잔수를 입력하세요!\n",
        "'''\n",
        "print(menu)\n",
        "coffee1 = int(input('아메리카노 몇잔: '))\n",
        "coffee2 = int(input('카페라떼   몇잔: '))\n",
        "coffee3 = int(input('카푸치노   몇잔: '))\n",
        "total = coffee1_price*coffee1 + coffee2_price*coffee2 + coffee3_price*coffee3\n",
        "print(f'주문하신 총 가격은 {total}원 입니다.')\n",
        "\n",
        "money = int(input('돈을 입력해주세요: '))\n",
        "if total > money:\n",
        "  print(f'{total-money}원이 부족합니다. 돈을 더 넣어주세요.')\n",
        "else:\n",
        "  print(f'거스름돈은 {abs(total-money)}원 입니다. 커피 맛있게 드세요~')"
      ]
    },
    {
      "cell_type": "code",
      "execution_count": null,
      "metadata": {
        "colab": {
          "background_save": true,
          "base_uri": "https://localhost:8080/"
        },
        "id": "VI_S2h_SOcJz",
        "outputId": "94e58f28-84a7-46e4-f126-946d7f40b161"
      },
      "outputs": [
        {
          "name": "stdout",
          "output_type": "stream",
          "text": [
            "[커피 자동주문 머신 메뉴]\n",
            "------------------------\n",
            "- 아메리카노:  2500원\n",
            "- 카페라떼:    3000원\n",
            "- 카푸치노:    3000원\n",
            "------------------------\n",
            "원하시는 커피종류와 잔수를 입력하세요!\n",
            "\n",
            "주문하신 총 가격은 17000원 입니다.\n"
          ]
        }
      ],
      "source": [
        "coffee1_price = 2500\n",
        "coffee2_price = 3000\n",
        "coffee3_price = 3000\n",
        "menu = f'''[커피 자동주문 머신 메뉴]\n",
        "------------------------\n",
        "- 아메리카노:  {coffee1_price}원\n",
        "- 카페라떼:    {coffee2_price}원\n",
        "- 카푸치노:    {coffee3_price}원\n",
        "------------------------\n",
        "원하시는 커피종류와 잔수를 입력하세요!\n",
        "'''\n",
        "print(menu)\n",
        "coffee1 = int(input('아메리카노 몇 잔: '))\n",
        "coffee2 = int(input('카페라떼   몇 잔: '))\n",
        "coffee3 = int(input('카푸치노   몇 잔: '))\n",
        "total = coffee1_price * coffee1 + coffee2_price * coffee2 + coffee3_price * coffee3\n",
        "print(f'주문하신 총 가격은 {total}원 입니다.')\n",
        "\n",
        "while True:\n",
        "    money = int(input('돈을 입력해주세요: '))\n",
        "    if total > money:\n",
        "        print(f'입력한 금액이 부족합니다.{total - money}원을 더 넣어주세요.')\n",
        "    else:\n",
        "        print(f'거스름돈은 {abs(total - money)}원 입니다. 커피 맛있게 드세요~')\n",
        "        break"
      ]
    },
    {
      "cell_type": "code",
      "execution_count": 1,
      "metadata": {
        "id": "9hDbORCsPLlg",
        "colab": {
          "base_uri": "https://localhost:8080/",
          "height": 447
        },
        "outputId": "d81a13e0-9e13-49fa-98f5-38cc7174b5a0"
      },
      "outputs": [
        {
          "output_type": "stream",
          "name": "stdout",
          "text": [
            "* 비밀의 숫자가 지정되었습니다.\n",
            "**********\n"
          ]
        },
        {
          "output_type": "error",
          "ename": "KeyboardInterrupt",
          "evalue": "ignored",
          "traceback": [
            "\u001b[0;31m---------------------------------------------------------------------------\u001b[0m",
            "\u001b[0;31mKeyboardInterrupt\u001b[0m                         Traceback (most recent call last)",
            "\u001b[0;32m<ipython-input-1-10934c91b572>\u001b[0m in \u001b[0;36m<cell line: 11>\u001b[0;34m()\u001b[0m\n\u001b[1;32m     10\u001b[0m \u001b[0;34m\u001b[0m\u001b[0m\n\u001b[1;32m     11\u001b[0m \u001b[0;32mwhile\u001b[0m \u001b[0;32mTrue\u001b[0m\u001b[0;34m:\u001b[0m\u001b[0;34m\u001b[0m\u001b[0;34m\u001b[0m\u001b[0m\n\u001b[0;32m---> 12\u001b[0;31m   \u001b[0mnum\u001b[0m\u001b[0;34m=\u001b[0m\u001b[0mint\u001b[0m\u001b[0;34m(\u001b[0m\u001b[0minput\u001b[0m\u001b[0;34m(\u001b[0m\u001b[0;34mf'숫자를 입력하세요:'\u001b[0m\u001b[0;34m)\u001b[0m\u001b[0;34m)\u001b[0m\u001b[0;34m\u001b[0m\u001b[0;34m\u001b[0m\u001b[0m\n\u001b[0m\u001b[1;32m     13\u001b[0m   \u001b[0;32mif\u001b[0m \u001b[0mrand\u001b[0m\u001b[0;34m>\u001b[0m\u001b[0mnum\u001b[0m\u001b[0;34m:\u001b[0m\u001b[0;34m\u001b[0m\u001b[0;34m\u001b[0m\u001b[0m\n\u001b[1;32m     14\u001b[0m     \u001b[0mprint\u001b[0m\u001b[0;34m(\u001b[0m\u001b[0;34m'-'\u001b[0m\u001b[0;34m*\u001b[0m\u001b[0;36m10\u001b[0m\u001b[0;34m)\u001b[0m\u001b[0;34m\u001b[0m\u001b[0;34m\u001b[0m\u001b[0m\n",
            "\u001b[0;32m/usr/local/lib/python3.10/dist-packages/ipykernel/kernelbase.py\u001b[0m in \u001b[0;36mraw_input\u001b[0;34m(self, prompt)\u001b[0m\n\u001b[1;32m    849\u001b[0m                 \u001b[0;34m\"raw_input was called, but this frontend does not support input requests.\"\u001b[0m\u001b[0;34m\u001b[0m\u001b[0;34m\u001b[0m\u001b[0m\n\u001b[1;32m    850\u001b[0m             )\n\u001b[0;32m--> 851\u001b[0;31m         return self._input_request(str(prompt),\n\u001b[0m\u001b[1;32m    852\u001b[0m             \u001b[0mself\u001b[0m\u001b[0;34m.\u001b[0m\u001b[0m_parent_ident\u001b[0m\u001b[0;34m,\u001b[0m\u001b[0;34m\u001b[0m\u001b[0;34m\u001b[0m\u001b[0m\n\u001b[1;32m    853\u001b[0m             \u001b[0mself\u001b[0m\u001b[0;34m.\u001b[0m\u001b[0m_parent_header\u001b[0m\u001b[0;34m,\u001b[0m\u001b[0;34m\u001b[0m\u001b[0;34m\u001b[0m\u001b[0m\n",
            "\u001b[0;32m/usr/local/lib/python3.10/dist-packages/ipykernel/kernelbase.py\u001b[0m in \u001b[0;36m_input_request\u001b[0;34m(self, prompt, ident, parent, password)\u001b[0m\n\u001b[1;32m    893\u001b[0m             \u001b[0;32mexcept\u001b[0m \u001b[0mKeyboardInterrupt\u001b[0m\u001b[0;34m:\u001b[0m\u001b[0;34m\u001b[0m\u001b[0;34m\u001b[0m\u001b[0m\n\u001b[1;32m    894\u001b[0m                 \u001b[0;31m# re-raise KeyboardInterrupt, to truncate traceback\u001b[0m\u001b[0;34m\u001b[0m\u001b[0;34m\u001b[0m\u001b[0m\n\u001b[0;32m--> 895\u001b[0;31m                 \u001b[0;32mraise\u001b[0m \u001b[0mKeyboardInterrupt\u001b[0m\u001b[0;34m(\u001b[0m\u001b[0;34m\"Interrupted by user\"\u001b[0m\u001b[0;34m)\u001b[0m \u001b[0;32mfrom\u001b[0m \u001b[0;32mNone\u001b[0m\u001b[0;34m\u001b[0m\u001b[0;34m\u001b[0m\u001b[0m\n\u001b[0m\u001b[1;32m    896\u001b[0m             \u001b[0;32mexcept\u001b[0m \u001b[0mException\u001b[0m \u001b[0;32mas\u001b[0m \u001b[0me\u001b[0m\u001b[0;34m:\u001b[0m\u001b[0;34m\u001b[0m\u001b[0;34m\u001b[0m\u001b[0m\n\u001b[1;32m    897\u001b[0m                 \u001b[0mself\u001b[0m\u001b[0;34m.\u001b[0m\u001b[0mlog\u001b[0m\u001b[0;34m.\u001b[0m\u001b[0mwarning\u001b[0m\u001b[0;34m(\u001b[0m\u001b[0;34m\"Invalid Message:\"\u001b[0m\u001b[0;34m,\u001b[0m \u001b[0mexc_info\u001b[0m\u001b[0;34m=\u001b[0m\u001b[0;32mTrue\u001b[0m\u001b[0;34m)\u001b[0m\u001b[0;34m\u001b[0m\u001b[0;34m\u001b[0m\u001b[0m\n",
            "\u001b[0;31mKeyboardInterrupt\u001b[0m: Interrupted by user"
          ]
        }
      ],
      "source": [
        "## (1~100)사이 랜덤 숫자 맞추는 업다운 게임 만들기\n",
        "\n",
        "import random\n",
        "\n",
        "rand=random.randint(1,100)\n",
        "\n",
        "print(f'* 비밀의 숫자가 지정되었습니다.')\n",
        "print('*'*10)\n",
        "t=0\n",
        "\n",
        "while True:\n",
        "  num=int(input(f'숫자를 입력하세요:'))\n",
        "  if rand>num:\n",
        "    print('-'*10)\n",
        "    print(f'비밀의 숫자가 더 큽니다. 다시 입력해주세요.')\n",
        "    t+=1\n",
        "  elif rand<num:\n",
        "    print('-'*10)\n",
        "    print(f'비밀의 숫자가 더 작습니다. 다시 입력해주세요')\n",
        "    t+=1\n",
        "  else:\n",
        "    print('-'*10)\n",
        "    print(f'정답을 맞추셨습니다. 비밀의 숫자는 {rand}입니다.')\n",
        "    t+=1\n",
        "    break\n",
        "\n",
        "print(f'비밀의 숫자: {rand}')\n",
        "print(f'당신의 입력 횟수: {t}')"
      ]
    },
    {
      "cell_type": "code",
      "source": [
        "help list\n"
      ],
      "metadata": {
        "id": "k90oz_yuIwSb"
      },
      "execution_count": null,
      "outputs": []
    },
    {
      "cell_type": "code",
      "source": [
        "a_list = [3,4,6,8,9]\n",
        "six_index = a_list.index(6)\n",
        "print(f'6 이란 값의 인덱스: {six_index}')\n",
        "\n",
        "for idx, v in enumerate(a_list):\n",
        "    print(f'인덱스:{idx}  값:{v}')"
      ],
      "metadata": {
        "colab": {
          "base_uri": "https://localhost:8080/"
        },
        "id": "dXWGatlgR_kO",
        "outputId": "ca61b114-44d3-4595-c3b4-8957fe874773"
      },
      "execution_count": 2,
      "outputs": [
        {
          "output_type": "stream",
          "name": "stdout",
          "text": [
            "6 이란 값의 인덱스: 2\n",
            "인덱스:0  값:3\n",
            "인덱스:1  값:4\n",
            "인덱스:2  값:6\n",
            "인덱스:3  값:8\n",
            "인덱스:4  값:9\n"
          ]
        }
      ]
    },
    {
      "cell_type": "code",
      "source": [],
      "metadata": {
        "id": "e8LkEiyoj80i"
      },
      "execution_count": null,
      "outputs": []
    }
  ],
  "metadata": {
    "colab": {
      "provenance": [],
      "authorship_tag": "ABX9TyMIua472L5t1rxGflJVEgu9",
      "include_colab_link": true
    },
    "kernelspec": {
      "display_name": "Python 3",
      "name": "python3"
    },
    "language_info": {
      "name": "python"
    }
  },
  "nbformat": 4,
  "nbformat_minor": 0
}