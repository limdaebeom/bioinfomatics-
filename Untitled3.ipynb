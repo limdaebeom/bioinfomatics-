{
  "nbformat": 4,
  "nbformat_minor": 0,
  "metadata": {
    "colab": {
      "provenance": [],
      "toc_visible": true,
      "authorship_tag": "ABX9TyOcKUcjro5jrfLiP+L8tEG4",
      "include_colab_link": true
    },
    "kernelspec": {
      "name": "python3",
      "display_name": "Python 3"
    },
    "language_info": {
      "name": "python"
    }
  },
  "cells": [
    {
      "cell_type": "markdown",
      "metadata": {
        "id": "view-in-github",
        "colab_type": "text"
      },
      "source": [
        "<a href=\"https://colab.research.google.com/github/limdaebeom/bioinfomatics-/blob/main/Untitled3.ipynb\" target=\"_parent\"><img src=\"https://colab.research.google.com/assets/colab-badge.svg\" alt=\"Open In Colab\"/></a>"
      ]
    },
    {
      "cell_type": "code",
      "execution_count": null,
      "metadata": {
        "colab": {
          "base_uri": "https://localhost:8080/",
          "height": 35
        },
        "id": "KSHOwYGGvRX2",
        "outputId": "387c2879-9cf1-4041-f12d-c0102daa35a6"
      },
      "outputs": [
        {
          "output_type": "execute_result",
          "data": {
            "text/plain": [
              "'I EAT 3 apple'"
            ],
            "application/vnd.google.colaboratory.intrinsic+json": {
              "type": "string"
            }
          },
          "metadata": {},
          "execution_count": 10
        }
      ],
      "source": [
        "\"I EAT {0} apple\".format(3)\n"
      ]
    },
    {
      "cell_type": "code",
      "source": [
        "file_name = input(\"파일을 입력하세요: \")\n",
        "name, extension = file_name.split('.')\n",
        "print(\"파일명:\", name)\n",
        "print(\"확장자:\", extension)\n"
      ],
      "metadata": {
        "colab": {
          "base_uri": "https://localhost:8080/"
        },
        "id": "foesRy7FC6iw",
        "outputId": "e8a68d27-1bfd-4cd4-8092-ec20650b8040"
      },
      "execution_count": null,
      "outputs": [
        {
          "output_type": "stream",
          "name": "stdout",
          "text": [
            "파일을 입력하세요: test.py\n",
            "파일명: test\n",
            "확장자: py\n"
          ]
        }
      ]
    },
    {
      "cell_type": "code",
      "source": [
        "import datetime"
      ],
      "metadata": {
        "id": "qisvWuuvFJkK"
      },
      "execution_count": null,
      "outputs": []
    },
    {
      "cell_type": "code",
      "source": [
        "import datetime\n",
        "now = str(datetime.datetime.now())\n",
        "print(f'값 : {now}')\n",
        "print(f'자료형 : {type(now)}')"
      ],
      "metadata": {
        "colab": {
          "base_uri": "https://localhost:8080/"
        },
        "id": "iA7lfJBXFMa8",
        "outputId": "71bbf0bf-4638-4034-907b-a00ef370722e"
      },
      "execution_count": null,
      "outputs": [
        {
          "output_type": "stream",
          "name": "stdout",
          "text": [
            "값 : 2023-08-08 03:01:30.254106\n",
            "자료형 : <class 'str'>\n"
          ]
        }
      ]
    },
    {
      "cell_type": "code",
      "source": [
        "import datetime\n",
        "now = str(datetime.datetime.now())\n",
        "print(f'값 : {now}')\n",
        "print(f'자료형 : {type(now)}')\n"
      ],
      "metadata": {
        "colab": {
          "base_uri": "https://localhost:8080/"
        },
        "id": "f4J-IxeXGjpJ",
        "outputId": "d60ea6a1-be3b-4e8a-bf50-c0431c888c54"
      },
      "execution_count": null,
      "outputs": [
        {
          "output_type": "stream",
          "name": "stdout",
          "text": [
            "값 : 2023-08-08 03:05:57.098111\n",
            "자료형 : <class 'str'>\n"
          ]
        }
      ]
    },
    {
      "cell_type": "code",
      "source": [
        "import datetime\n",
        "now = str(datetime.datetime.now())\n",
        "print(f'값 : {now}')\n",
        "print(f'자료형 : {type(now)}')\n",
        "\n",
        "print(f' \"지금시각은 + \"{0<3}\"')"
      ],
      "metadata": {
        "colab": {
          "base_uri": "https://localhost:8080/"
        },
        "id": "dstWioDwG7lD",
        "outputId": "8d8bfb79-da97-4a67-e267-7223b0d7391f"
      },
      "execution_count": null,
      "outputs": [
        {
          "output_type": "stream",
          "name": "stdout",
          "text": [
            "값 : 2023-08-08 03:07:35.147043\n",
            "자료형 : <class 'str'>\n",
            " \"지금시각은 + \"True\"\n"
          ]
        }
      ]
    },
    {
      "cell_type": "code",
      "source": [
        "import datetime\n",
        "now = str(datetime.datetime.now())\n",
        "print(f'값 : {now}')\n",
        "print(f'자료형 : {type(now)}')\n",
        "\n",
        "print(f' \"지금시각은 + \"{0<3}.format(now)\"')"
      ],
      "metadata": {
        "colab": {
          "base_uri": "https://localhost:8080/"
        },
        "id": "WNWVc8SFHThO",
        "outputId": "35dbc35e-597f-4214-b130-9eb014f6da28"
      },
      "execution_count": null,
      "outputs": [
        {
          "output_type": "stream",
          "name": "stdout",
          "text": [
            "값 : 2023-08-08 03:08:18.636225\n",
            "자료형 : <class 'str'>\n",
            " \"지금시각은 + \"True.format(now)\"\n"
          ]
        }
      ]
    },
    {
      "cell_type": "code",
      "source": [
        "import datetime\n",
        "now = str(datetime.datetime.now())\n",
        "print(f'값 : {now}')\n",
        "print(f'자료형 : {type(now)}')\n",
        "\n",
        "print(f' \"지금시각은 + \"{0:<3}\"')"
      ],
      "metadata": {
        "colab": {
          "base_uri": "https://localhost:8080/"
        },
        "id": "4-_E3ZsIHeI0",
        "outputId": "3098a21e-1d4b-43d3-b85e-c800325ae356"
      },
      "execution_count": null,
      "outputs": [
        {
          "output_type": "stream",
          "name": "stdout",
          "text": [
            "값 : 2023-08-08 03:08:56.937426\n",
            "자료형 : <class 'str'>\n",
            " \"지금시각은 + \"0  \"\n"
          ]
        }
      ]
    },
    {
      "cell_type": "code",
      "source": [
        "import datetime\n",
        "now = str(datetime.datetime.now())\n",
        "print(f'값 : {now}')\n",
        "print(f'자료형 : {type(now)}')\n",
        "\n",
        "print(f' \"지금시각은 + \"now{0<3}\"')"
      ],
      "metadata": {
        "colab": {
          "base_uri": "https://localhost:8080/"
        },
        "id": "4-MlW4n7HnfL",
        "outputId": "51ad1c51-2f50-4efc-cc7c-4ef02e97c9fb"
      },
      "execution_count": null,
      "outputs": [
        {
          "output_type": "stream",
          "name": "stdout",
          "text": [
            "값 : 2023-08-08 03:10:08.622032\n",
            "자료형 : <class 'str'>\n",
            " \"지금시각은 + \"nowTrue\"\n"
          ]
        }
      ]
    },
    {
      "cell_type": "code",
      "source": [
        "import datetime\n",
        "now = str(datetime.datetime.now())\n",
        "print(f'값 : {now}')\n",
        "print(f'자료형 : {type(now)}')\n",
        "\n",
        "print(f' \"지금시각은 + \"now[0<3]\"')"
      ],
      "metadata": {
        "colab": {
          "base_uri": "https://localhost:8080/"
        },
        "id": "gKoGq7eoH4_E",
        "outputId": "23181b7d-bbb3-48c1-9841-cb4c84bbe66a"
      },
      "execution_count": null,
      "outputs": [
        {
          "output_type": "stream",
          "name": "stdout",
          "text": [
            "값 : 2023-08-08 03:10:26.500737\n",
            "자료형 : <class 'str'>\n",
            " \"지금시각은 + \"now[0<3]\"\n"
          ]
        }
      ]
    },
    {
      "cell_type": "code",
      "source": [
        "import datetime\n",
        "now = str(datetime.datetime.now())\n",
        "print(f'값 : {now}')\n",
        "print(f'자료형 : {type(now)}')\n",
        "\n",
        "print(f' \"지금시각은 + now[0<3]')"
      ],
      "metadata": {
        "colab": {
          "base_uri": "https://localhost:8080/"
        },
        "id": "K_A0UIUdH9S0",
        "outputId": "dcee9cc5-e700-4c4f-9e07-9eeb2578b5c0"
      },
      "execution_count": null,
      "outputs": [
        {
          "output_type": "stream",
          "name": "stdout",
          "text": [
            "값 : 2023-08-08 03:10:42.261491\n",
            "자료형 : <class 'str'>\n",
            " \"지금시각은 + now[0<3]\n"
          ]
        }
      ]
    },
    {
      "cell_type": "code",
      "source": [
        "import datetime\n",
        "now = str(datetime.datetime.now())\n",
        "print(f'값 : {now}')\n",
        "print(f'자료형 : {type(now)}')\n",
        "\n",
        "print(f' \"지금시각은\" + now[0<3]')"
      ],
      "metadata": {
        "colab": {
          "base_uri": "https://localhost:8080/"
        },
        "id": "bGMpSTAJIDcB",
        "outputId": "4984f321-b485-4cab-f4c2-79da40f1fac8"
      },
      "execution_count": null,
      "outputs": [
        {
          "output_type": "stream",
          "name": "stdout",
          "text": [
            "값 : 2023-08-08 03:11:05.550804\n",
            "자료형 : <class 'str'>\n",
            " \"지금시각은\" + now[0<3]\n"
          ]
        }
      ]
    },
    {
      "cell_type": "code",
      "source": [
        "import datetime\n",
        "\n",
        "now = str(datetime.datetime.now())\n",
        "print(f'값    : {now}')\n",
        "print(f'자료형 : {type(now)}')\n",
        "\n",
        "print(f'지금 시각은 {now[:4]}년 {now[5:7]}월 {now[8:10]}일 {now[11:13]}시 {now[14:16]}분 {now[17:19]}초 입니다.')"
      ],
      "metadata": {
        "colab": {
          "base_uri": "https://localhost:8080/"
        },
        "id": "9VzJiXD2ILdB",
        "outputId": "d3c5b29c-48c6-43fc-d190-40aca721a487"
      },
      "execution_count": null,
      "outputs": [
        {
          "output_type": "stream",
          "name": "stdout",
          "text": [
            "값    : 2023-08-08 03:11:27.442912\n",
            "자료형 : <class 'str'>\n",
            "지금 시각은 2023년 08월 08일 03시 11분 27초 입니다.\n"
          ]
        }
      ]
    },
    {
      "cell_type": "code",
      "source": [
        "import datetime\n",
        "now = str(datetime.datetime.now())\n",
        "now = now.split()\n",
        "day = now[0].split('-')\n",
        "time = now[1].split(':')\n",
        "sec = time[2].split('.')[0]\n",
        "print(f'현재 시각은 {day[0]}년 {day[1]}월 {day[2]}일 {time[0]}시 {time[1]}분 {sec}초 입니다')"
      ],
      "metadata": {
        "colab": {
          "base_uri": "https://localhost:8080/"
        },
        "id": "iJkTXEfXImFi",
        "outputId": "c4386747-0458-47d3-a330-731692ddd856"
      },
      "execution_count": null,
      "outputs": [
        {
          "output_type": "stream",
          "name": "stdout",
          "text": [
            "현재 시각은 2023년 08월 08일 03시 13분 15초 입니다\n"
          ]
        }
      ]
    },
    {
      "cell_type": "code",
      "source": [
        "import datetime"
      ],
      "metadata": {
        "id": "29oiLYLGIms7"
      },
      "execution_count": null,
      "outputs": []
    },
    {
      "cell_type": "code",
      "source": [
        "import datetime\n",
        "\n",
        "now = datetime.datetime.now()\n",
        "print(now.strftime('지금 시간은 %Y년 %m월 %d일 %H시 %Md 입니다.'))"
      ],
      "metadata": {
        "colab": {
          "base_uri": "https://localhost:8080/"
        },
        "id": "ooRPQBznJdBP",
        "outputId": "e1c743fa-cc34-41f4-fb2b-1f902148cc4e"
      },
      "execution_count": null,
      "outputs": [
        {
          "output_type": "stream",
          "name": "stdout",
          "text": [
            "지금 시간은 2023년 08월 08일 03시 19d 입니다.\n"
          ]
        }
      ]
    },
    {
      "cell_type": "code",
      "source": [
        "import urllib.request\n",
        "import ssl\n",
        "\n",
        "ctx = ssl._create_unverified_context()\n",
        "\n",
        "#환율정보 페이지 불러오기\n",
        "print(\"[환율정보 불러오기]\")\n",
        "URL = \"https://search.naver.com/search.naver?where=nexearch&sm=top_hty&fbm=1&ie=utf8&query=%ED%99%98%EC%9C%A8\"\n",
        "page = urllib.request.urlopen(URL, context=ctx)\n",
        "text = page.read().decode(\"utf8\")  # 해당 페이지의 소스코드\n",
        "# print(text)\n",
        "\n",
        "#환율정보 가져오기: 기준시간\n",
        "searchText = 'class=\"grp_info\"> <em>'\n",
        "where      = text.find(searchText)  #소스코드에서 해당 문자열의 시작위치\n",
        "targetInfo = text[where+len(searchText):where+len(searchText)+16]\n",
        "print(f'-환율기준시간: {targetInfo}')\n",
        "\n",
        "#환율정보 가져오기: 달러\n",
        "searchText = '<span>미국 <em>USD</em></span></a></th> <td><span>'\n",
        "where      = text.find(searchText)\n",
        "targetInfo = text[where+len(searchText):where+len(searchText)+8]\n",
        "print(f'-달러: {targetInfo}')\n",
        "\n",
        "#-----------------------------------------------------------------"
      ],
      "metadata": {
        "colab": {
          "base_uri": "https://localhost:8080/"
        },
        "id": "piBaFGo_KDD3",
        "outputId": "6b1ea0f1-e244-44f1-ebbb-974c616be405"
      },
      "execution_count": null,
      "outputs": [
        {
          "output_type": "stream",
          "name": "stdout",
          "text": [
            "[환율정보 불러오기]\n",
            "-환율기준시간: 2023.08.08 12:51\n",
            "-달러: 1,314.00\n"
          ]
        }
      ]
    },
    {
      "cell_type": "code",
      "source": [
        "import urllib.request\n",
        "import ssl\n",
        "\n",
        "ctx = ssl._create_unverified_context()\n",
        "\n",
        "#환율정보 페이지 불러오기\n",
        "print(\"[환율정보 불러오기]\")\n",
        "URL = \"https://search.naver.com/search.naver?where=nexearch&sm=top_hty&fbm=1&ie=utf8&query=%ED%99%98%EC%9C%A8\"\n",
        "page = urllib.request.urlopen(URL, context=ctx)\n",
        "text = page.read().decode(\"utf8\")  # 해당 페이지의 소스코드\n",
        "# print(text)\n",
        "\n",
        "#환율정보 가져오기: 기준시간\n",
        "searchText = 'class=\"grp_info\"> <em>'\n",
        "where      = text.find(searchText)  #소스코드에서 해당 문자열의 시작위치\n",
        "(f'위치: {where}')\n",
        "(f'searchText 길이: {len(searchText)}')\n",
        "start=where+len(searchText)\n",
        "end=where+len(searchText)+16\n",
        "targetInfo = text[where+len(searchText):where+len(searchText)+16]\n",
        "print(f'-환율기준시간: {targetInfo}')\n",
        "\n",
        "#환율정보 가져오기: 달러\n",
        "searchText = '<span>미국 <em>USD</em></span></a></th> <td><span>'\n",
        "where      = text.find(searchText)\n",
        "targetInfo = text[where+len(searchText):where+len(searchText)+8]\n",
        "print(f'-달러: {targetInfo}')\n",
        "\n",
        "#환율정보 가져오기: 유로\n",
        "searchText = '<span>유럽연합 <em>EUR</em></span></a></th> <td><span>'\n",
        "where      = text.find(searchText)\n",
        "targetInfo = text[where+len(searchText):where+len(searchText)+8]\n",
        "print(f'-유로: {targetInfo}')\n",
        "\n",
        "#환율정보 가져오기: 위안\n",
        "searchText = '<span>중국 <em>CNY</em></span></a></th> <td><span>'\n",
        "where      = text.find(searchText)\n",
        "targetInfo = text[where+len(searchText):where+len(searchText)+6]\n",
        "print(f'-위안: {targetInfo}')\n",
        "\n",
        "#환율정보 가져오기: 파운드\n",
        "searchText = '<span>영국 <em>GBP</em></span></a></th> <td><span>'\n",
        "where      = text.find(searchText)\n",
        "targetInfo = text[where+len(searchText):where+len(searchText)+8]\n",
        "print(f'-파운드: {targetInfo}')\n",
        "\n",
        "#환율정보 가져오기: 엔화\n",
        "searchText = '<span>일본 <em>JPY 100</em></span></a></th> <td><span>'\n",
        "where      = text.find(searchText)\n",
        "targetInfo = text[where+len(searchText):where+len(searchText)+6]\n",
        "print(f'-엔화: {targetInfo}')"
      ],
      "metadata": {
        "colab": {
          "base_uri": "https://localhost:8080/"
        },
        "id": "bK9TXiygRvc7",
        "outputId": "3054a06a-d603-4492-99ee-fabf22b9a08b"
      },
      "execution_count": null,
      "outputs": [
        {
          "output_type": "stream",
          "name": "stdout",
          "text": [
            "[환율정보 불러오기]\n",
            "-환율기준시간: 2023.08.08 12:51\n",
            "-달러: 1,314.00\n",
            "-유로: 1,443.17\n",
            "-위안: 181.94\n",
            "-파운드: 1,676.01\n",
            "-엔화: 916.86\n"
          ]
        }
      ]
    },
    {
      "cell_type": "code",
      "source": [
        "input = 4321\n",
        "a= 657890\n",
        "\n",
        "a/5000==>13"
      ],
      "metadata": {
        "colab": {
          "base_uri": "https://localhost:8080/",
          "height": 147
        },
        "id": "qLGy4FTHmUjI",
        "outputId": "1894fd6b-da4c-46dc-d678-1c4cd4e98806"
      },
      "execution_count": null,
      "outputs": [
        {
          "output_type": "error",
          "ename": "SyntaxError",
          "evalue": "ignored",
          "traceback": [
            "\u001b[0;36m  File \u001b[0;32m\"<ipython-input-31-15469be56d86>\"\u001b[0;36m, line \u001b[0;32m4\u001b[0m\n\u001b[0;31m    a/5000==>13\u001b[0m\n\u001b[0m            ^\u001b[0m\n\u001b[0;31mSyntaxError\u001b[0m\u001b[0;31m:\u001b[0m invalid syntax\n"
          ]
        }
      ]
    },
    {
      "cell_type": "code",
      "source": [
        "input = 4321\n",
        "a= 657890\n",
        "\n",
        "a/5000==>13"
      ],
      "metadata": {
        "id": "Sf87QSIamueu"
      },
      "execution_count": null,
      "outputs": []
    },
    {
      "cell_type": "code",
      "source": [
        "money = int(input('동전으로 교환할 금액을 입력하세요'))\n",
        "print('-'*30)\n",
        "print(f'500원짜리 동전: (money//100) 개')\n",
        "print(f'100원짜리 동전 : money//100 개')\n",
        "money = money%500\n",
        "print(f'100원짜리 동전: (money/100\n",
        ")')"
      ],
      "metadata": {
        "id": "wW4VZFannDSl"
      },
      "execution_count": null,
      "outputs": []
    },
    {
      "cell_type": "code",
      "source": [
        "c = int(input('동전으로 교환할 금액을 입력하세요 :'))\n",
        "print(f'500원짜리 ==> {c // 500}개')\n",
        "c = c % 500\n",
        "print(f'100원짜리 ==> {c // 100}개')\n",
        "c = c % 100\n",
        "print(f'50원짜리 ==> {c // 50}개')\n",
        "c = c % 50\n",
        "print(f'10원짜리 ==> {c // 10}개')\n",
        "c = c % 10\n",
        "print(f'잔돈 ==> c원')"
      ],
      "metadata": {
        "colab": {
          "base_uri": "https://localhost:8080/"
        },
        "id": "6bteBUfioPa-",
        "outputId": "aa39a67d-d4e2-448f-9fa6-950310b7e48c"
      },
      "execution_count": null,
      "outputs": [
        {
          "output_type": "stream",
          "name": "stdout",
          "text": [
            "동전으로 교환할 금액을 입력하세요 :4320\n",
            "500원짜리 ==> 8개\n",
            "100원짜리 ==> 3개\n",
            "50원짜리 ==> 0개\n",
            "10원짜리 ==> 2개\n",
            "잔돈 ==> c원\n"
          ]
        }
      ]
    },
    {
      "cell_type": "code",
      "source": [
        "c = int(input('동전으로 교환할 금액을 입력하세요 :'))\n",
        "print(f'500원짜리 ==> {c // 500}개')\n",
        "c = c % 500\n",
        "print(f'100원짜리 ==> {c // 100}개')\n",
        "c = c % 100\n",
        "print(f'50원짜리 ==> {c // 50}개')\n",
        "c = c % 50\n",
        "print(f'10원짜리 ==> {c // 10}개')\n",
        "c = c % 10\n",
        "print(f'잔돈 ==> c원')"
      ],
      "metadata": {
        "id": "oWlvG9xwpgnu"
      },
      "execution_count": null,
      "outputs": []
    },
    {
      "cell_type": "code",
      "source": [
        "a = 99\n",
        "if a < 100 :\n",
        "  print(\"100보다 작군요\")"
      ],
      "metadata": {
        "colab": {
          "base_uri": "https://localhost:8080/"
        },
        "id": "LJKYY8aARwOG",
        "outputId": "8dfa40c7-282a-41d8-f3ae-ee37ac4823d9"
      },
      "execution_count": null,
      "outputs": [
        {
          "output_type": "stream",
          "name": "stdout",
          "text": [
            "100보다 작군요\n"
          ]
        }
      ]
    },
    {
      "cell_type": "code",
      "source": [
        "a = 99\n",
        "if a < 100 :  print(\"100보다 작군요\")\n"
      ],
      "metadata": {
        "colab": {
          "base_uri": "https://localhost:8080/"
        },
        "id": "t-Dr1VBPrsGu",
        "outputId": "a515423d-c5bc-4abe-a2db-ca6edad79b40"
      },
      "execution_count": null,
      "outputs": [
        {
          "output_type": "stream",
          "name": "stdout",
          "text": [
            "100보다 작군요\n"
          ]
        }
      ]
    },
    {
      "cell_type": "code",
      "source": [
        "a = 1500\n",
        "if a < 1000:\n",
        "  print(f'(a)'는 1000보다 작군요!')\n",
        "  else\n",
        "        print('무척 덥군요!')\n",
        "\n"
      ],
      "metadata": {
        "colab": {
          "base_uri": "https://localhost:8080/",
          "height": 147
        },
        "id": "bEwEftl-r1sZ",
        "outputId": "1907e79a-2dc7-40d1-f193-fe6f51e34ed2"
      },
      "execution_count": null,
      "outputs": [
        {
          "output_type": "error",
          "ename": "SyntaxError",
          "evalue": "ignored",
          "traceback": [
            "\u001b[0;36m  File \u001b[0;32m\"<ipython-input-35-9d3be3281433>\"\u001b[0;36m, line \u001b[0;32m3\u001b[0m\n\u001b[0;31m    print(f'(a)'는 1000보다 작군요!')\u001b[0m\n\u001b[0m                     ^\u001b[0m\n\u001b[0;31mSyntaxError\u001b[0m\u001b[0;31m:\u001b[0m invalid decimal literal\n"
          ]
        }
      ]
    },
    {
      "cell_type": "code",
      "source": [
        "bills = [50000, 10000, 5000, 1000]\n",
        "coins = [500, 100, 50, 10]\n",
        "M = int(input('교환할 돈은 얼마? :'))\n",
        "print('-' * 30)\n",
        "print('지폐 : ')\n",
        "for bill in bills:\n",
        "  print(f'{bill}원 {M//bill}장')\n",
        "  M = M % bill\n",
        "print()\n",
        "print('동전 : ')\n",
        "for coin in coins:\n",
        "  print(f'{coin}원 {M//coin}장')\n",
        "  M = M % coin"
      ],
      "metadata": {
        "colab": {
          "base_uri": "https://localhost:8080/",
          "height": 276
        },
        "id": "B2NxaDdruwYS",
        "outputId": "164ddca0-6aa0-4e28-fd84-67b9c8baa366"
      },
      "execution_count": null,
      "outputs": [
        {
          "name": "stdout",
          "output_type": "stream",
          "text": [
            "교환할 돈은 얼마? :\n"
          ]
        },
        {
          "output_type": "error",
          "ename": "ValueError",
          "evalue": "ignored",
          "traceback": [
            "\u001b[0;31m---------------------------------------------------------------------------\u001b[0m",
            "\u001b[0;31mValueError\u001b[0m                                Traceback (most recent call last)",
            "\u001b[0;32m<ipython-input-36-414b4cdb860d>\u001b[0m in \u001b[0;36m<cell line: 3>\u001b[0;34m()\u001b[0m\n\u001b[1;32m      1\u001b[0m \u001b[0mbills\u001b[0m \u001b[0;34m=\u001b[0m \u001b[0;34m[\u001b[0m\u001b[0;36m50000\u001b[0m\u001b[0;34m,\u001b[0m \u001b[0;36m10000\u001b[0m\u001b[0;34m,\u001b[0m \u001b[0;36m5000\u001b[0m\u001b[0;34m,\u001b[0m \u001b[0;36m1000\u001b[0m\u001b[0;34m]\u001b[0m\u001b[0;34m\u001b[0m\u001b[0;34m\u001b[0m\u001b[0m\n\u001b[1;32m      2\u001b[0m \u001b[0mcoins\u001b[0m \u001b[0;34m=\u001b[0m \u001b[0;34m[\u001b[0m\u001b[0;36m500\u001b[0m\u001b[0;34m,\u001b[0m \u001b[0;36m100\u001b[0m\u001b[0;34m,\u001b[0m \u001b[0;36m50\u001b[0m\u001b[0;34m,\u001b[0m \u001b[0;36m10\u001b[0m\u001b[0;34m]\u001b[0m\u001b[0;34m\u001b[0m\u001b[0;34m\u001b[0m\u001b[0m\n\u001b[0;32m----> 3\u001b[0;31m \u001b[0mM\u001b[0m \u001b[0;34m=\u001b[0m \u001b[0mint\u001b[0m\u001b[0;34m(\u001b[0m\u001b[0minput\u001b[0m\u001b[0;34m(\u001b[0m\u001b[0;34m'교환할 돈은 얼마? :'\u001b[0m\u001b[0;34m)\u001b[0m\u001b[0;34m)\u001b[0m\u001b[0;34m\u001b[0m\u001b[0;34m\u001b[0m\u001b[0m\n\u001b[0m\u001b[1;32m      4\u001b[0m \u001b[0mprint\u001b[0m\u001b[0;34m(\u001b[0m\u001b[0;34m'-'\u001b[0m \u001b[0;34m*\u001b[0m \u001b[0;36m30\u001b[0m\u001b[0;34m)\u001b[0m\u001b[0;34m\u001b[0m\u001b[0;34m\u001b[0m\u001b[0m\n\u001b[1;32m      5\u001b[0m \u001b[0mprint\u001b[0m\u001b[0;34m(\u001b[0m\u001b[0;34m'지폐 : '\u001b[0m\u001b[0;34m)\u001b[0m\u001b[0;34m\u001b[0m\u001b[0;34m\u001b[0m\u001b[0m\n",
            "\u001b[0;31mValueError\u001b[0m: invalid literal for int() with base 10: ''"
          ]
        }
      ]
    },
    {
      "cell_type": "code",
      "source": [],
      "metadata": {
        "id": "AIvT6s7RuxHQ"
      },
      "execution_count": null,
      "outputs": []
    }
  ]
}