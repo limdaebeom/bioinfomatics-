{
  "nbformat": 4,
  "nbformat_minor": 0,
  "metadata": {
    "colab": {
      "provenance": [],
      "authorship_tag": "ABX9TyNSDa0VcqsPnTqD5FiFaUfZ",
      "include_colab_link": true
    },
    "kernelspec": {
      "name": "python3",
      "display_name": "Python 3"
    },
    "language_info": {
      "name": "python"
    }
  },
  "cells": [
    {
      "cell_type": "markdown",
      "metadata": {
        "id": "view-in-github",
        "colab_type": "text"
      },
      "source": [
        "<a href=\"https://colab.research.google.com/github/limdaebeom/bioinfomatics-/blob/main/test4.ipynb\" target=\"_parent\"><img src=\"https://colab.research.google.com/assets/colab-badge.svg\" alt=\"Open In Colab\"/></a>"
      ]
    },
    {
      "cell_type": "code",
      "source": [],
      "metadata": {
        "id": "-vn8KL2s9_HY"
      },
      "execution_count": null,
      "outputs": []
    },
    {
      "cell_type": "markdown",
      "source": [
        "#나의 네 번째 파이썬 코드\n"
      ],
      "metadata": {
        "id": "fvAbeGfn-GfC"
      }
    },
    {
      "cell_type": "markdown",
      "source": [
        "## 코랩에서 작성된 코드\n",
        "### 간단한 사칙연산 출력\n",
        "\n",
        "코랩에서 텍스트 작성방법을 설명하고 있습니다."
      ],
      "metadata": {
        "id": "8Y_kTja79xnK"
      }
    },
    {
      "cell_type": "code",
      "execution_count": 2,
      "metadata": {
        "id": "ztwb3zaP9i7q",
        "colab": {
          "base_uri": "https://localhost:8080/"
        },
        "outputId": "bcc64192-8581-4403-e1cd-d13935893928"
      },
      "outputs": [
        {
          "output_type": "stream",
          "name": "stdout",
          "text": [
            "600\n",
            "-400\n",
            "0.2\n",
            "50000\n"
          ]
        }
      ],
      "source": [
        "print(100+500)\n",
        "print(100-500)\n",
        "print(100/500)\n",
        "print(100*500)\n"
      ]
    },
    {
      "cell_type": "code",
      "source": [
        "import sys\n",
        "\n",
        "\n",
        "print(\"나의 네 번째 파이썬 프로그램\")\n",
        "print(sys.version)\n",
        "\n",
        "\n"
      ],
      "metadata": {
        "colab": {
          "base_uri": "https://localhost:8080/"
        },
        "id": "p5n97_1v--t7",
        "outputId": "da22ba2f-d4d8-4c12-95b9-f06f4e147e3c"
      },
      "execution_count": 3,
      "outputs": [
        {
          "output_type": "stream",
          "name": "stdout",
          "text": [
            "나의 네 번째 파이썬 프로그램\n",
            "3.10.12 (main, Jun 11 2023, 05:26:28) [GCC 11.4.0]\n"
          ]
        }
      ]
    }
  ]
}